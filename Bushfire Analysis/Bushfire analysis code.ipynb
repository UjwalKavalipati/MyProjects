{
 "cells": [
  {
   "cell_type": "markdown",
   "metadata": {},
   "source": [
    "# Bushfire Analysis using Meteorological Data\n",
    "\n",
    "\n",
    "Student information\n",
    "- Family Name: Kavalipati\n",
    "- Given Name: Ujwal\n",
    "- email:kavalipatiujwal@gmail.com\n",
    "\n",
    "Programming Language: R 4.0.0 in Jupyter Notebook\n",
    "\n",
    "R Libraries used:\n",
    "- ggplot2\n",
    "- GGally\n",
    "- Cowplot \n",
    "- gridExtra\n",
    "- reshape2\n",
    "- lattice\n",
    "- car\n",
    "- MLmetrics\n",
    "- caret\n",
    "- randomForest"
   ]
  },
  {
   "cell_type": "markdown",
   "metadata": {},
   "source": [
    "## Table of Contents\n",
    "\n",
    "* [Introduction](#sec_1)\n",
    "* [Data Exploration](#sec_2)\n",
    "* [Model Development](#sec_3)\n",
    "* [Model Comparison](#sec_4)\n",
    "* [Variable Identification and Explanation](#sec_5)\n",
    "* [Conclusion](#sec_6)\n",
    "* [References](#sec_7)"
   ]
  },
  {
   "cell_type": "markdown",
   "metadata": {},
   "source": [
    "## 1. Introduction <a class=\"anchor\" id=\"sec_1\"></a>"
   ]
  },
  {
   "cell_type": "markdown",
   "metadata": {},
   "source": [
    "<p>The current task which we are going to do is about bushfire analysis.The collected\n",
    "data contains rich information about the status of the forest, the analysis of\n",
    "which can help us detect potential bushfires so as to make effective and efficient\n",
    "firefighting plan and then minimize the damage caused by the bushfires.We will be exploring machine learning approaches to predict the burned area of bushfires by using meteorological data that are\n",
    "known to influence the wild fires.We will be identifying the key factors that are strongly associated with the response variable(burned area)</p> "
   ]
  },
  {
   "cell_type": "code",
   "execution_count": 1,
   "metadata": {},
   "outputs": [
    {
     "name": "stderr",
     "output_type": "stream",
     "text": [
      "Registered S3 method overwritten by 'GGally':\n",
      "  method from   \n",
      "  +.gg   ggplot2\n",
      "\n",
      "\n",
      "********************************************************\n",
      "\n",
      "Note: As of version 1.0.0, cowplot does not change the\n",
      "\n",
      "  default ggplot2 theme anymore. To recover the previous\n",
      "\n",
      "  behavior, execute:\n",
      "  theme_set(theme_cowplot())\n",
      "\n",
      "********************************************************\n",
      "\n",
      "\n",
      "Loading required package: carData\n",
      "\n",
      "\n",
      "Attaching package: 'MLmetrics'\n",
      "\n",
      "\n",
      "The following object is masked from 'package:base':\n",
      "\n",
      "    Recall\n",
      "\n",
      "\n",
      "\n",
      "Attaching package: 'caret'\n",
      "\n",
      "\n",
      "The following objects are masked from 'package:MLmetrics':\n",
      "\n",
      "    MAE, RMSE\n",
      "\n",
      "\n",
      "randomForest 4.6-14\n",
      "\n",
      "Type rfNews() to see new features/changes/bug fixes.\n",
      "\n",
      "\n",
      "Attaching package: 'randomForest'\n",
      "\n",
      "\n",
      "The following object is masked from 'package:gridExtra':\n",
      "\n",
      "    combine\n",
      "\n",
      "\n",
      "The following object is masked from 'package:ggplot2':\n",
      "\n",
      "    margin\n",
      "\n",
      "\n"
     ]
    }
   ],
   "source": [
    "# Import the required libraries\n",
    "library(ggplot2)\n",
    "library(GGally)\n",
    "library(gridExtra)\n",
    "library(cowplot)\n",
    "library(reshape2)\n",
    "library(lattice)\n",
    "library(car)\n",
    "#install.packages('MLmetrics')\n",
    "library(MLmetrics)\n",
    "#install.packages('caret')\n",
    "library(caret)\n",
    "#install.packages('randomForest')\n",
    "library(randomForest)\n"
   ]
  },
  {
   "cell_type": "code",
   "execution_count": 2,
   "metadata": {},
   "outputs": [],
   "source": [
    "#Read the files into the notebook\n",
    "\n",
    "forest <- read.csv('forestfires.csv')"
   ]
  },
  {
   "cell_type": "markdown",
   "metadata": {},
   "source": [
    "### Data Description\n",
    "<p>The dataset contains 517 fire instances, each of which have 13 columns: the first\n",
    "12 columns corresponding to the attributes (e.g., spatial coordinates, month,\n",
    "day, four fire indices, and other meteorological data) and the last column containing the burned area</p>"
   ]
  },
  {
   "cell_type": "markdown",
   "metadata": {},
   "source": [
    "<b><p>1.Spatial information</p></b>\n",
    "<li>X - x-axis spatial coordinate within the Montesinho park map: 1 to 9\n",
    "<li>Y - y-axis spatial coordinate within the Montesinho park map: 2 to 9\n",
    "    <b><p>2.Temporal information</p></b>\n",
    "<li>month - month of the year: 'jan' to 'dec'\n",
    "<li>day - day of the week: 'mon' to 'sun'\n",
    "<li>FWI: The forest Fire Weather Index (FWI). Which is the Canadian system for rating fire danger.\n",
    "\n",
    "<b><p>3.FFMC - FFMC index from the FWI system: 18.7 to 96.20</p></b>\n",
    "<li>DMC - DMC index from the FWI system: 1.1 to 291.3\n",
    "<li>DC - DC index from the FWI system: 7.9 to 860.6\n",
    "<li>ISI - ISI index from the FWI system: 0.0 to 56.10\n",
    "    <b><p>4.Methorological information</p></b>\n",
    "<li>temp - temperature in Celsius degrees: 2.2 to 33.30\n",
    "<li>RH - relative humidity in %: 15.0 to 100\n",
    "<li>wind - wind speed in km/h: 0.40 to 9.40\n",
    "<li>rain - outside rain in mm/m2 : 0.0 to 6.4\n",
    "    <b><p>5.area - the burned area of the forest (in ha): 0.00 to 1090.84</b></p>"
   ]
  },
  {
   "cell_type": "markdown",
   "metadata": {},
   "source": [
    "## 2. Data Exploration<a class=\"anchor\" id=\"sec_2\"></a>"
   ]
  },
  {
   "cell_type": "code",
   "execution_count": 3,
   "metadata": {},
   "outputs": [
    {
     "data": {
      "text/html": [
       "<table>\n",
       "<caption>A data.frame: 6 × 13</caption>\n",
       "<thead>\n",
       "\t<tr><th></th><th scope=col>X</th><th scope=col>Y</th><th scope=col>month</th><th scope=col>day</th><th scope=col>FFMC</th><th scope=col>DMC</th><th scope=col>DC</th><th scope=col>ISI</th><th scope=col>temp</th><th scope=col>RH</th><th scope=col>wind</th><th scope=col>rain</th><th scope=col>area</th></tr>\n",
       "\t<tr><th></th><th scope=col>&lt;int&gt;</th><th scope=col>&lt;int&gt;</th><th scope=col>&lt;chr&gt;</th><th scope=col>&lt;chr&gt;</th><th scope=col>&lt;dbl&gt;</th><th scope=col>&lt;dbl&gt;</th><th scope=col>&lt;dbl&gt;</th><th scope=col>&lt;dbl&gt;</th><th scope=col>&lt;dbl&gt;</th><th scope=col>&lt;int&gt;</th><th scope=col>&lt;dbl&gt;</th><th scope=col>&lt;dbl&gt;</th><th scope=col>&lt;dbl&gt;</th></tr>\n",
       "</thead>\n",
       "<tbody>\n",
       "\t<tr><th scope=row>1</th><td>7</td><td>5</td><td>mar</td><td>fri</td><td>86.2</td><td>26.2</td><td> 94.3</td><td> 5.1</td><td> 8.2</td><td>51</td><td>6.7</td><td>0.0</td><td>0</td></tr>\n",
       "\t<tr><th scope=row>2</th><td>7</td><td>4</td><td>oct</td><td>tue</td><td>90.6</td><td>35.4</td><td>669.1</td><td> 6.7</td><td>18.0</td><td>33</td><td>0.9</td><td>0.0</td><td>0</td></tr>\n",
       "\t<tr><th scope=row>3</th><td>7</td><td>4</td><td>oct</td><td>sat</td><td>90.6</td><td>43.7</td><td>686.9</td><td> 6.7</td><td>14.6</td><td>33</td><td>1.3</td><td>0.0</td><td>0</td></tr>\n",
       "\t<tr><th scope=row>4</th><td>8</td><td>6</td><td>mar</td><td>fri</td><td>91.7</td><td>33.3</td><td> 77.5</td><td> 9.0</td><td> 8.3</td><td>97</td><td>4.0</td><td>0.2</td><td>0</td></tr>\n",
       "\t<tr><th scope=row>5</th><td>8</td><td>6</td><td>mar</td><td>sun</td><td>89.3</td><td>51.3</td><td>102.2</td><td> 9.6</td><td>11.4</td><td>99</td><td>1.8</td><td>0.0</td><td>0</td></tr>\n",
       "\t<tr><th scope=row>6</th><td>8</td><td>6</td><td>aug</td><td>sun</td><td>92.3</td><td>85.3</td><td>488.0</td><td>14.7</td><td>22.2</td><td>29</td><td>5.4</td><td>0.0</td><td>0</td></tr>\n",
       "</tbody>\n",
       "</table>\n"
      ],
      "text/latex": [
       "A data.frame: 6 × 13\n",
       "\\begin{tabular}{r|lllllllllllll}\n",
       "  & X & Y & month & day & FFMC & DMC & DC & ISI & temp & RH & wind & rain & area\\\\\n",
       "  & <int> & <int> & <chr> & <chr> & <dbl> & <dbl> & <dbl> & <dbl> & <dbl> & <int> & <dbl> & <dbl> & <dbl>\\\\\n",
       "\\hline\n",
       "\t1 & 7 & 5 & mar & fri & 86.2 & 26.2 &  94.3 &  5.1 &  8.2 & 51 & 6.7 & 0.0 & 0\\\\\n",
       "\t2 & 7 & 4 & oct & tue & 90.6 & 35.4 & 669.1 &  6.7 & 18.0 & 33 & 0.9 & 0.0 & 0\\\\\n",
       "\t3 & 7 & 4 & oct & sat & 90.6 & 43.7 & 686.9 &  6.7 & 14.6 & 33 & 1.3 & 0.0 & 0\\\\\n",
       "\t4 & 8 & 6 & mar & fri & 91.7 & 33.3 &  77.5 &  9.0 &  8.3 & 97 & 4.0 & 0.2 & 0\\\\\n",
       "\t5 & 8 & 6 & mar & sun & 89.3 & 51.3 & 102.2 &  9.6 & 11.4 & 99 & 1.8 & 0.0 & 0\\\\\n",
       "\t6 & 8 & 6 & aug & sun & 92.3 & 85.3 & 488.0 & 14.7 & 22.2 & 29 & 5.4 & 0.0 & 0\\\\\n",
       "\\end{tabular}\n"
      ],
      "text/markdown": [
       "\n",
       "A data.frame: 6 × 13\n",
       "\n",
       "| <!--/--> | X &lt;int&gt; | Y &lt;int&gt; | month &lt;chr&gt; | day &lt;chr&gt; | FFMC &lt;dbl&gt; | DMC &lt;dbl&gt; | DC &lt;dbl&gt; | ISI &lt;dbl&gt; | temp &lt;dbl&gt; | RH &lt;int&gt; | wind &lt;dbl&gt; | rain &lt;dbl&gt; | area &lt;dbl&gt; |\n",
       "|---|---|---|---|---|---|---|---|---|---|---|---|---|---|\n",
       "| 1 | 7 | 5 | mar | fri | 86.2 | 26.2 |  94.3 |  5.1 |  8.2 | 51 | 6.7 | 0.0 | 0 |\n",
       "| 2 | 7 | 4 | oct | tue | 90.6 | 35.4 | 669.1 |  6.7 | 18.0 | 33 | 0.9 | 0.0 | 0 |\n",
       "| 3 | 7 | 4 | oct | sat | 90.6 | 43.7 | 686.9 |  6.7 | 14.6 | 33 | 1.3 | 0.0 | 0 |\n",
       "| 4 | 8 | 6 | mar | fri | 91.7 | 33.3 |  77.5 |  9.0 |  8.3 | 97 | 4.0 | 0.2 | 0 |\n",
       "| 5 | 8 | 6 | mar | sun | 89.3 | 51.3 | 102.2 |  9.6 | 11.4 | 99 | 1.8 | 0.0 | 0 |\n",
       "| 6 | 8 | 6 | aug | sun | 92.3 | 85.3 | 488.0 | 14.7 | 22.2 | 29 | 5.4 | 0.0 | 0 |\n",
       "\n"
      ],
      "text/plain": [
       "  X Y month day FFMC DMC  DC    ISI  temp RH wind rain area\n",
       "1 7 5 mar   fri 86.2 26.2  94.3  5.1  8.2 51 6.7  0.0  0   \n",
       "2 7 4 oct   tue 90.6 35.4 669.1  6.7 18.0 33 0.9  0.0  0   \n",
       "3 7 4 oct   sat 90.6 43.7 686.9  6.7 14.6 33 1.3  0.0  0   \n",
       "4 8 6 mar   fri 91.7 33.3  77.5  9.0  8.3 97 4.0  0.2  0   \n",
       "5 8 6 mar   sun 89.3 51.3 102.2  9.6 11.4 99 1.8  0.0  0   \n",
       "6 8 6 aug   sun 92.3 85.3 488.0 14.7 22.2 29 5.4  0.0  0   "
      ]
     },
     "metadata": {},
     "output_type": "display_data"
    },
    {
     "data": {
      "text/html": [
       "<style>\n",
       ".list-inline {list-style: none; margin:0; padding: 0}\n",
       ".list-inline>li {display: inline-block}\n",
       ".list-inline>li:not(:last-child)::after {content: \"\\00b7\"; padding: 0 .5ex}\n",
       "</style>\n",
       "<ol class=list-inline><li>517</li><li>13</li></ol>\n"
      ],
      "text/latex": [
       "\\begin{enumerate*}\n",
       "\\item 517\n",
       "\\item 13\n",
       "\\end{enumerate*}\n"
      ],
      "text/markdown": [
       "1. 517\n",
       "2. 13\n",
       "\n",
       "\n"
      ],
      "text/plain": [
       "[1] 517  13"
      ]
     },
     "metadata": {},
     "output_type": "display_data"
    }
   ],
   "source": [
    "# let's look at the dataset\n",
    "head(forest)\n",
    "dim(forest)"
   ]
  },
  {
   "cell_type": "code",
   "execution_count": 4,
   "metadata": {},
   "outputs": [
    {
     "data": {
      "text/plain": [
       "       X               Y          month               day           \n",
       " Min.   :1.000   Min.   :2.0   Length:517         Length:517        \n",
       " 1st Qu.:3.000   1st Qu.:4.0   Class :character   Class :character  \n",
       " Median :4.000   Median :4.0   Mode  :character   Mode  :character  \n",
       " Mean   :4.669   Mean   :4.3                                        \n",
       " 3rd Qu.:7.000   3rd Qu.:5.0                                        \n",
       " Max.   :9.000   Max.   :9.0                                        \n",
       "      FFMC            DMC              DC             ISI        \n",
       " Min.   :18.70   Min.   :  1.1   Min.   :  7.9   Min.   : 0.000  \n",
       " 1st Qu.:90.20   1st Qu.: 68.6   1st Qu.:437.7   1st Qu.: 6.500  \n",
       " Median :91.60   Median :108.3   Median :664.2   Median : 8.400  \n",
       " Mean   :90.64   Mean   :110.9   Mean   :547.9   Mean   : 9.022  \n",
       " 3rd Qu.:92.90   3rd Qu.:142.4   3rd Qu.:713.9   3rd Qu.:10.800  \n",
       " Max.   :96.20   Max.   :291.3   Max.   :860.6   Max.   :56.100  \n",
       "      temp             RH              wind            rain        \n",
       " Min.   : 2.20   Min.   : 15.00   Min.   :0.400   Min.   :0.00000  \n",
       " 1st Qu.:15.50   1st Qu.: 33.00   1st Qu.:2.700   1st Qu.:0.00000  \n",
       " Median :19.30   Median : 42.00   Median :4.000   Median :0.00000  \n",
       " Mean   :18.89   Mean   : 44.29   Mean   :4.018   Mean   :0.02166  \n",
       " 3rd Qu.:22.80   3rd Qu.: 53.00   3rd Qu.:4.900   3rd Qu.:0.00000  \n",
       " Max.   :33.30   Max.   :100.00   Max.   :9.400   Max.   :6.40000  \n",
       "      area        \n",
       " Min.   :   0.00  \n",
       " 1st Qu.:   0.00  \n",
       " Median :   0.52  \n",
       " Mean   :  12.85  \n",
       " 3rd Qu.:   6.57  \n",
       " Max.   :1090.84  "
      ]
     },
     "metadata": {},
     "output_type": "display_data"
    }
   ],
   "source": [
    "# Let's find the descriptive statistics \n",
    "summary(forest)"
   ]
  },
  {
   "cell_type": "code",
   "execution_count": 5,
   "metadata": {},
   "outputs": [],
   "source": [
    "forest$month=as.factor(forest$month)\n",
    "forest$day=as.factor(forest$day)\n",
    "forest1=forest               #make a copy of original dataframe"
   ]
  },
  {
   "cell_type": "markdown",
   "metadata": {},
   "source": [
    "We can see that most forestfires were caused on Sunday followed by Friday and Saturday, which means there is human intervention for forestfires, where as it is less on week days.\n",
    "\n",
    "Highest number of forest fire cases occured in August and September.Let's see if we can use this insights for builidng the model which predicts the burned area.\n",
    "<p>We can also observe that month and day are character where other fields are numeric</p>"
   ]
  },
  {
   "cell_type": "code",
   "execution_count": 6,
   "metadata": {},
   "outputs": [],
   "source": [
    "#let us remove the month and day from our dataframe to make few visualisations.\n",
    "forest1$month<-NULL\n",
    "forest1$day<-NULL"
   ]
  },
  {
   "cell_type": "code",
   "execution_count": 7,
   "metadata": {},
   "outputs": [
    {
     "data": {
      "image/png": "[encoded data removed]",
      "text/plain": [
       "plot without title"
      ]
     },
     "metadata": {
      "image/png": {
       "height": 420,
       "width": 420
      },
      "text/plain": {
       "height": 420,
       "width": 420
      }
     },
     "output_type": "display_data"
    }
   ],
   "source": [
    "#Let us plot a boxplot\n",
    "boxplot(forest1, las=3, cex.axis = 1)"
   ]
  },
  {
   "cell_type": "markdown",
   "metadata": {},
   "source": [
    "This suffice our purpose but plotting all boxplot with same scale is not a good idea.Let's plot the boxplots individually."
   ]
  },
  {
   "cell_type": "code",
   "execution_count": 8,
   "metadata": {},
   "outputs": [
    {
     "name": "stderr",
     "output_type": "stream",
     "text": [
      "No id variables; using all as measure variables\n",
      "\n"
     ]
    },
    {
     "data": {
      "image/png": "[encoded data removed]",
      "text/plain": [
       "plot without title"
      ]
     },
     "metadata": {
      "image/png": {
       "height": 420,
       "width": 420
      },
      "text/plain": {
       "height": 420,
       "width": 420
      }
     },
     "output_type": "display_data"
    }
   ],
   "source": [
    "# Generate box plots of all variables except the two categorical/nomimal ones\n",
    "m1=melt(forest1)\n",
    "ggplot(m1,aes(x = variable,y = value)) +\n",
    "facet_wrap(~variable, scales=\"free\") +\n",
    "geom_boxplot() +\n",
    "scale_y_continuous(labels=function (n) {format(n, scientific=FALSE)})"
   ]
  },
  {
   "cell_type": "markdown",
   "metadata": {},
   "source": [
    "We can see that there are outliers present in FFMC,DMC,ISI and RH"
   ]
  },
  {
   "cell_type": "code",
   "execution_count": 9,
   "metadata": {},
   "outputs": [
    {
     "data": {
      "image/png": "[encoded data removed]",
      "text/plain": [
       "plot without title"
      ]
     },
     "metadata": {
      "image/png": {
       "height": 420,
       "width": 420
      },
      "text/plain": {
       "height": 420,
       "width": 420
      }
     },
     "output_type": "display_data"
    }
   ],
   "source": [
    "#options(repr.plot.width=50, repr.plot.height=50)\n",
    "pairs(forest1,cex=0.5,main = \"forest pair plot\")"
   ]
  },
  {
   "cell_type": "code",
   "execution_count": 10,
   "metadata": {},
   "outputs": [
    {
     "data": {
      "text/html": [
       "<table>\n",
       "<caption>A matrix: 11 × 11 of type dbl</caption>\n",
       "<thead>\n",
       "\t<tr><th></th><th scope=col>X</th><th scope=col>Y</th><th scope=col>FFMC</th><th scope=col>DMC</th><th scope=col>DC</th><th scope=col>ISI</th><th scope=col>temp</th><th scope=col>RH</th><th scope=col>wind</th><th scope=col>rain</th><th scope=col>area</th></tr>\n",
       "</thead>\n",
       "<tbody>\n",
       "\t<tr><th scope=row>X</th><td> 1.000000000</td><td> 0.539548171</td><td>-0.02103927</td><td>-0.048384178</td><td>-0.08591612</td><td> 0.006209941</td><td>-0.05125826</td><td> 0.08522319</td><td> 0.01879782</td><td> 0.065387168</td><td> 0.063385299</td></tr>\n",
       "\t<tr><th scope=row>Y</th><td> 0.539548171</td><td> 1.000000000</td><td>-0.04630755</td><td> 0.007781561</td><td>-0.10117777</td><td>-0.024487992</td><td>-0.02410308</td><td> 0.06222073</td><td>-0.02034085</td><td> 0.033234103</td><td> 0.044873225</td></tr>\n",
       "\t<tr><th scope=row>FFMC</th><td>-0.021039272</td><td>-0.046307546</td><td> 1.00000000</td><td> 0.382618800</td><td> 0.33051180</td><td> 0.531804931</td><td> 0.43153226</td><td>-0.30099542</td><td>-0.02848481</td><td> 0.056701533</td><td> 0.040122004</td></tr>\n",
       "\t<tr><th scope=row>DMC</th><td>-0.048384178</td><td> 0.007781561</td><td> 0.38261880</td><td> 1.000000000</td><td> 0.68219161</td><td> 0.305127835</td><td> 0.46959384</td><td> 0.07379494</td><td>-0.10534225</td><td> 0.074789982</td><td> 0.072994296</td></tr>\n",
       "\t<tr><th scope=row>DC</th><td>-0.085916123</td><td>-0.101177767</td><td> 0.33051180</td><td> 0.682191612</td><td> 1.00000000</td><td> 0.229154169</td><td> 0.49620805</td><td>-0.03919165</td><td>-0.20346569</td><td> 0.035860862</td><td> 0.049383225</td></tr>\n",
       "\t<tr><th scope=row>ISI</th><td> 0.006209941</td><td>-0.024487992</td><td> 0.53180493</td><td> 0.305127835</td><td> 0.22915417</td><td> 1.000000000</td><td> 0.39428710</td><td>-0.13251718</td><td> 0.10682589</td><td> 0.067668190</td><td> 0.008257688</td></tr>\n",
       "\t<tr><th scope=row>temp</th><td>-0.051258262</td><td>-0.024103084</td><td> 0.43153226</td><td> 0.469593844</td><td> 0.49620805</td><td> 0.394287104</td><td> 1.00000000</td><td>-0.52739034</td><td>-0.22711622</td><td> 0.069490547</td><td> 0.097844107</td></tr>\n",
       "\t<tr><th scope=row>RH</th><td> 0.085223194</td><td> 0.062220731</td><td>-0.30099542</td><td> 0.073794941</td><td>-0.03919165</td><td>-0.132517177</td><td>-0.52739034</td><td> 1.00000000</td><td> 0.06941007</td><td> 0.099751223</td><td>-0.075518563</td></tr>\n",
       "\t<tr><th scope=row>wind</th><td> 0.018797818</td><td>-0.020340852</td><td>-0.02848481</td><td>-0.105342253</td><td>-0.20346569</td><td> 0.106825888</td><td>-0.22711622</td><td> 0.06941007</td><td> 1.00000000</td><td> 0.061118880</td><td> 0.012317277</td></tr>\n",
       "\t<tr><th scope=row>rain</th><td> 0.065387168</td><td> 0.033234103</td><td> 0.05670153</td><td> 0.074789982</td><td> 0.03586086</td><td> 0.067668190</td><td> 0.06949055</td><td> 0.09975122</td><td> 0.06111888</td><td> 1.000000000</td><td>-0.007365729</td></tr>\n",
       "\t<tr><th scope=row>area</th><td> 0.063385299</td><td> 0.044873225</td><td> 0.04012200</td><td> 0.072994296</td><td> 0.04938323</td><td> 0.008257688</td><td> 0.09784411</td><td>-0.07551856</td><td> 0.01231728</td><td>-0.007365729</td><td> 1.000000000</td></tr>\n",
       "</tbody>\n",
       "</table>\n"
      ],
      "text/latex": [
       "A matrix: 11 × 11 of type dbl\n",
       "\\begin{tabular}{r|lllllllllll}\n",
       "  & X & Y & FFMC & DMC & DC & ISI & temp & RH & wind & rain & area\\\\\n",
       "\\hline\n",
       "\tX &  1.000000000 &  0.539548171 & -0.02103927 & -0.048384178 & -0.08591612 &  0.006209941 & -0.05125826 &  0.08522319 &  0.01879782 &  0.065387168 &  0.063385299\\\\\n",
       "\tY &  0.539548171 &  1.000000000 & -0.04630755 &  0.007781561 & -0.10117777 & -0.024487992 & -0.02410308 &  0.06222073 & -0.02034085 &  0.033234103 &  0.044873225\\\\\n",
       "\tFFMC & -0.021039272 & -0.046307546 &  1.00000000 &  0.382618800 &  0.33051180 &  0.531804931 &  0.43153226 & -0.30099542 & -0.02848481 &  0.056701533 &  0.040122004\\\\\n",
       "\tDMC & -0.048384178 &  0.007781561 &  0.38261880 &  1.000000000 &  0.68219161 &  0.305127835 &  0.46959384 &  0.07379494 & -0.10534225 &  0.074789982 &  0.072994296\\\\\n",
       "\tDC & -0.085916123 & -0.101177767 &  0.33051180 &  0.682191612 &  1.00000000 &  0.229154169 &  0.49620805 & -0.03919165 & -0.20346569 &  0.035860862 &  0.049383225\\\\\n",
       "\tISI &  0.006209941 & -0.024487992 &  0.53180493 &  0.305127835 &  0.22915417 &  1.000000000 &  0.39428710 & -0.13251718 &  0.10682589 &  0.067668190 &  0.008257688\\\\\n",
       "\ttemp & -0.051258262 & -0.024103084 &  0.43153226 &  0.469593844 &  0.49620805 &  0.394287104 &  1.00000000 & -0.52739034 & -0.22711622 &  0.069490547 &  0.097844107\\\\\n",
       "\tRH &  0.085223194 &  0.062220731 & -0.30099542 &  0.073794941 & -0.03919165 & -0.132517177 & -0.52739034 &  1.00000000 &  0.06941007 &  0.099751223 & -0.075518563\\\\\n",
       "\twind &  0.018797818 & -0.020340852 & -0.02848481 & -0.105342253 & -0.20346569 &  0.106825888 & -0.22711622 &  0.06941007 &  1.00000000 &  0.061118880 &  0.012317277\\\\\n",
       "\train &  0.065387168 &  0.033234103 &  0.05670153 &  0.074789982 &  0.03586086 &  0.067668190 &  0.06949055 &  0.09975122 &  0.06111888 &  1.000000000 & -0.007365729\\\\\n",
       "\tarea &  0.063385299 &  0.044873225 &  0.04012200 &  0.072994296 &  0.04938323 &  0.008257688 &  0.09784411 & -0.07551856 &  0.01231728 & -0.007365729 &  1.000000000\\\\\n",
       "\\end{tabular}\n"
      ],
      "text/markdown": [
       "\n",
       "A matrix: 11 × 11 of type dbl\n",
       "\n",
       "| <!--/--> | X | Y | FFMC | DMC | DC | ISI | temp | RH | wind | rain | area |\n",
       "|---|---|---|---|---|---|---|---|---|---|---|---|\n",
       "| X |  1.000000000 |  0.539548171 | -0.02103927 | -0.048384178 | -0.08591612 |  0.006209941 | -0.05125826 |  0.08522319 |  0.01879782 |  0.065387168 |  0.063385299 |\n",
       "| Y |  0.539548171 |  1.000000000 | -0.04630755 |  0.007781561 | -0.10117777 | -0.024487992 | -0.02410308 |  0.06222073 | -0.02034085 |  0.033234103 |  0.044873225 |\n",
       "| FFMC | -0.021039272 | -0.046307546 |  1.00000000 |  0.382618800 |  0.33051180 |  0.531804931 |  0.43153226 | -0.30099542 | -0.02848481 |  0.056701533 |  0.040122004 |\n",
       "| DMC | -0.048384178 |  0.007781561 |  0.38261880 |  1.000000000 |  0.68219161 |  0.305127835 |  0.46959384 |  0.07379494 | -0.10534225 |  0.074789982 |  0.072994296 |\n",
       "| DC | -0.085916123 | -0.101177767 |  0.33051180 |  0.682191612 |  1.00000000 |  0.229154169 |  0.49620805 | -0.03919165 | -0.20346569 |  0.035860862 |  0.049383225 |\n",
       "| ISI |  0.006209941 | -0.024487992 |  0.53180493 |  0.305127835 |  0.22915417 |  1.000000000 |  0.39428710 | -0.13251718 |  0.10682589 |  0.067668190 |  0.008257688 |\n",
       "| temp | -0.051258262 | -0.024103084 |  0.43153226 |  0.469593844 |  0.49620805 |  0.394287104 |  1.00000000 | -0.52739034 | -0.22711622 |  0.069490547 |  0.097844107 |\n",
       "| RH |  0.085223194 |  0.062220731 | -0.30099542 |  0.073794941 | -0.03919165 | -0.132517177 | -0.52739034 |  1.00000000 |  0.06941007 |  0.099751223 | -0.075518563 |\n",
       "| wind |  0.018797818 | -0.020340852 | -0.02848481 | -0.105342253 | -0.20346569 |  0.106825888 | -0.22711622 |  0.06941007 |  1.00000000 |  0.061118880 |  0.012317277 |\n",
       "| rain |  0.065387168 |  0.033234103 |  0.05670153 |  0.074789982 |  0.03586086 |  0.067668190 |  0.06949055 |  0.09975122 |  0.06111888 |  1.000000000 | -0.007365729 |\n",
       "| area |  0.063385299 |  0.044873225 |  0.04012200 |  0.072994296 |  0.04938323 |  0.008257688 |  0.09784411 | -0.07551856 |  0.01231728 | -0.007365729 |  1.000000000 |\n",
       "\n"
      ],
      "text/plain": [
       "     X            Y            FFMC        DMC          DC         \n",
       "X     1.000000000  0.539548171 -0.02103927 -0.048384178 -0.08591612\n",
       "Y     0.539548171  1.000000000 -0.04630755  0.007781561 -0.10117777\n",
       "FFMC -0.021039272 -0.046307546  1.00000000  0.382618800  0.33051180\n",
       "DMC  -0.048384178  0.007781561  0.38261880  1.000000000  0.68219161\n",
       "DC   -0.085916123 -0.101177767  0.33051180  0.682191612  1.00000000\n",
       "ISI   0.006209941 -0.024487992  0.53180493  0.305127835  0.22915417\n",
       "temp -0.051258262 -0.024103084  0.43153226  0.469593844  0.49620805\n",
       "RH    0.085223194  0.062220731 -0.30099542  0.073794941 -0.03919165\n",
       "wind  0.018797818 -0.020340852 -0.02848481 -0.105342253 -0.20346569\n",
       "rain  0.065387168  0.033234103  0.05670153  0.074789982  0.03586086\n",
       "area  0.063385299  0.044873225  0.04012200  0.072994296  0.04938323\n",
       "     ISI          temp        RH          wind        rain         area        \n",
       "X     0.006209941 -0.05125826  0.08522319  0.01879782  0.065387168  0.063385299\n",
       "Y    -0.024487992 -0.02410308  0.06222073 -0.02034085  0.033234103  0.044873225\n",
       "FFMC  0.531804931  0.43153226 -0.30099542 -0.02848481  0.056701533  0.040122004\n",
       "DMC   0.305127835  0.46959384  0.07379494 -0.10534225  0.074789982  0.072994296\n",
       "DC    0.229154169  0.49620805 -0.03919165 -0.20346569  0.035860862  0.049383225\n",
       "ISI   1.000000000  0.39428710 -0.13251718  0.10682589  0.067668190  0.008257688\n",
       "temp  0.394287104  1.00000000 -0.52739034 -0.22711622  0.069490547  0.097844107\n",
       "RH   -0.132517177 -0.52739034  1.00000000  0.06941007  0.099751223 -0.075518563\n",
       "wind  0.106825888 -0.22711622  0.06941007  1.00000000  0.061118880  0.012317277\n",
       "rain  0.067668190  0.06949055  0.09975122  0.06111888  1.000000000 -0.007365729\n",
       "area  0.008257688  0.09784411 -0.07551856  0.01231728 -0.007365729  1.000000000"
      ]
     },
     "metadata": {},
     "output_type": "display_data"
    }
   ],
   "source": [
    "#find the correlation between different parameters\n",
    "cor(forest1)"
   ]
  },
  {
   "cell_type": "code",
   "execution_count": 11,
   "metadata": {},
   "outputs": [
    {
     "data": {
      "image/png": "[encoded data removed]",
      "text/plain": [
       "plot without title"
      ]
     },
     "metadata": {
      "image/png": {
       "height": 420,
       "width": 420
      },
      "text/plain": {
       "height": 420,
       "width": 420
      }
     },
     "output_type": "display_data"
    }
   ],
   "source": [
    "#Define you own panel\n",
    "myPanel <- function(x, y, z, ...) {\n",
    "    panel.levelplot(x,y,z,...)\n",
    "    panel.text(x, y, round(z, 2))\n",
    "}\n",
    "#Define the color scheme\n",
    "cols = colorRampPalette(c(\"red\",\"blue\"))\n",
    "#Plot the correlation matrix.\n",
    "levelplot(cor(forest1), col.regions = cols(100), main = \"correlation\", xlab = NULL, ylab = NULL, \n",
    "          scales = list(x = list(rot = 90)), panel = myPanel)"
   ]
  },
  {
   "cell_type": "markdown",
   "metadata": {},
   "source": [
    "<p><ol><li>As we can see from the above plot, the correlation between DC and DMC is high.\n",
    "<p><li>The correlation between RH and temp is also evident.\n",
    "<p><li> Temp has the highest positive correlation with area followed by DMC.\n",
    "<p><li>RH and rain have negative correlation with area"
   ]
  },
  {
   "cell_type": "code",
   "execution_count": 12,
   "metadata": {},
   "outputs": [
    {
     "data": {
      "image/png": "[encoded data removed]",
      "text/plain": [
       "plot without title"
      ]
     },
     "metadata": {
      "image/png": {
       "height": 420,
       "width": 420
      },
      "text/plain": {
       "height": 420,
       "width": 420
      }
     },
     "output_type": "display_data"
    }
   ],
   "source": [
    "#Make a matrix of plots with a given data set\n",
    "ggpairs(forest1)"
   ]
  },
  {
   "cell_type": "markdown",
   "metadata": {},
   "source": [
    "We can confirm that temp has a correlation value of 0.0978 with burned area."
   ]
  },
  {
   "cell_type": "code",
   "execution_count": 13,
   "metadata": {},
   "outputs": [
    {
     "data": {
      "image/png": "[encoded data removed]",
      "text/plain": [
       "Plot with title \"Scatter plot\""
      ]
     },
     "metadata": {
      "image/png": {
       "height": 420,
       "width": 420
      },
      "text/plain": {
       "height": 420,
       "width": 420
      }
     },
     "output_type": "display_data"
    },
    {
     "data": {
      "image/png": "[encoded data removed]",
      "text/plain": [
       "Plot with title \"Scatter plot\""
      ]
     },
     "metadata": {
      "image/png": {
       "height": 420,
       "width": 420
      },
      "text/plain": {
       "height": 420,
       "width": 420
      }
     },
     "output_type": "display_data"
    },
    {
     "data": {
      "image/png": "[encoded data removed]",
      "text/plain": [
       "Plot with title \"Scatter plot\""
      ]
     },
     "metadata": {
      "image/png": {
       "height": 420,
       "width": 420
      },
      "text/plain": {
       "height": 420,
       "width": 420
      }
     },
     "output_type": "display_data"
    }
   ],
   "source": [
    "#let's plot scatter plots and have a closer look at them\n",
    "#par(mfrow=c(1,3))\n",
    "\n",
    "plot(forest1$temp, forest1$area, col = \"blue\", main='Scatter plot', ylab='Area', xlab='Temp')\n",
    "plot(forest1$DC,forest1$DMC,col = \"blue\", main='Scatter plot', ylab='DMC', xlab='DC')\n",
    "plot(forest1$RH,forest1$temp,col = \"blue\", main='Scatter plot', ylab='temp', xlab='RH')"
   ]
  },
  {
   "cell_type": "markdown",
   "metadata": {},
   "source": [
    "We can say that as DC increases DMC increases and vice versa,and temp increases as RH decreases."
   ]
  },
  {
   "cell_type": "markdown",
   "metadata": {},
   "source": [
    "## 3. Model Development<a class=\"anchor\" id=\"sec_3\"></a>"
   ]
  },
  {
   "cell_type": "code",
   "execution_count": 14,
   "metadata": {},
   "outputs": [],
   "source": [
    "#Let's divide the dataset into training and testing set\n",
    "set.seed(456)\n",
    "forest$logarea <- ifelse(forest$area > 0, log(forest$area), 0)\n",
    "forest$area=NULL\n",
    "forest$month=NULL                                                    #we will not be using month,make it null\n",
    "forest$day=NULL                                                      #we will not be using day,make it null\n",
    "train_ind = sample(seq_len(nrow(forest)),size = floor(0.8*nrow(forest)))\n",
    "train=forest[train_ind,]\n",
    "test=forest[-train_ind,]\n",
    "train1=forest1[train_ind,]\n",
    "test1=forest1[-train_ind,]"
   ]
  },
  {
   "cell_type": "markdown",
   "metadata": {},
   "source": [
    "### Model-1 - Linear Regression"
   ]
  },
  {
   "cell_type": "code",
   "execution_count": 15,
   "metadata": {},
   "outputs": [
    {
     "data": {
      "text/plain": [
       "\n",
       "Call:\n",
       "lm(formula = area ~ ., data = train1)\n",
       "\n",
       "Residuals:\n",
       "   Min     1Q Median     3Q    Max \n",
       "-32.81 -12.59  -6.59   1.47 713.39 \n",
       "\n",
       "Coefficients:\n",
       "             Estimate Std. Error t value Pr(>|t|)  \n",
       "(Intercept) 15.103764  48.599467   0.311   0.7561  \n",
       "X            1.219179   1.083686   1.125   0.2612  \n",
       "Y            0.676986   2.079106   0.326   0.7449  \n",
       "FFMC        -0.187840   0.510416  -0.368   0.7131  \n",
       "DMC          0.107734   0.050699   2.125   0.0342 *\n",
       "DC          -0.008462   0.012543  -0.675   0.5003  \n",
       "ISI         -0.288904   0.704303  -0.410   0.6819  \n",
       "temp         0.329577   0.602108   0.547   0.5844  \n",
       "RH          -0.266962   0.182396  -1.464   0.1441  \n",
       "wind         1.202717   1.282543   0.938   0.3489  \n",
       "rain        -2.083548   6.592492  -0.316   0.7521  \n",
       "---\n",
       "Signif. codes:  0 '***' 0.001 '**' 0.01 '*' 0.05 '.' 0.1 ' ' 1\n",
       "\n",
       "Residual standard error: 42.97 on 402 degrees of freedom\n",
       "Multiple R-squared:  0.034,\tAdjusted R-squared:  0.009972 \n",
       "F-statistic: 1.415 on 10 and 402 DF,  p-value: 0.171\n"
      ]
     },
     "metadata": {},
     "output_type": "display_data"
    }
   ],
   "source": [
    "#Let's first build the linear regression model\n",
    "fit1 = lm(area~., data =train1 )\n",
    "summary(fit1)"
   ]
  },
  {
   "cell_type": "markdown",
   "metadata": {},
   "source": [
    "We see that we can't actually select any features based on p value, no p-value is less than 0.01,let's perform few more operations.Instead of manually selecting a subset of variables that are strongly associated with the predictor, R provides some automatic approaches of variable selection by using step() function."
   ]
  },
  {
   "cell_type": "code",
   "execution_count": 16,
   "metadata": {},
   "outputs": [
    {
     "data": {
      "text/html": [
       "112.25642393375"
      ],
      "text/latex": [
       "112.25642393375"
      ],
      "text/markdown": [
       "112.25642393375"
      ],
      "text/plain": [
       "[1] 112.2564"
      ]
     },
     "metadata": {},
     "output_type": "display_data"
    }
   ],
   "source": [
    "#let's fit the model to our test dataset\n",
    "RMSE(predict(fit1,test1),test1$area)"
   ]
  },
  {
   "cell_type": "markdown",
   "metadata": {},
   "source": [
    "RMSE is very high if we are trying to do it normally, so let us take log transormations on the area column and build our model"
   ]
  },
  {
   "cell_type": "code",
   "execution_count": 17,
   "metadata": {},
   "outputs": [
    {
     "data": {
      "text/plain": [
       "\n",
       "Call:\n",
       "lm(formula = logarea ~ ., data = train)\n",
       "\n",
       "Residuals:\n",
       "    Min      1Q  Median      3Q     Max \n",
       "-3.5228 -1.0015 -0.5989  0.8720  5.1610 \n",
       "\n",
       "Coefficients:\n",
       "              Estimate Std. Error t value Pr(>|t|)  \n",
       "(Intercept)  1.0169323  1.6029656   0.634   0.5262  \n",
       "X            0.0309189  0.0357434   0.865   0.3875  \n",
       "Y            0.0430305  0.0685756   0.627   0.5307  \n",
       "FFMC        -0.0024888  0.0168352  -0.148   0.8825  \n",
       "DMC          0.0017418  0.0016722   1.042   0.2982  \n",
       "DC           0.0003642  0.0004137   0.880   0.3792  \n",
       "ISI         -0.0309294  0.0232302  -1.331   0.1838  \n",
       "temp        -0.0059839  0.0198594  -0.301   0.7633  \n",
       "RH          -0.0121602  0.0060160  -2.021   0.0439 *\n",
       "wind         0.0915525  0.0423024   2.164   0.0310 *\n",
       "rain         0.1465245  0.2174414   0.674   0.5008  \n",
       "---\n",
       "Signif. codes:  0 '***' 0.001 '**' 0.01 '*' 0.05 '.' 0.1 ' ' 1\n",
       "\n",
       "Residual standard error: 1.417 on 402 degrees of freedom\n",
       "Multiple R-squared:  0.03446,\tAdjusted R-squared:  0.01044 \n",
       "F-statistic: 1.435 on 10 and 402 DF,  p-value: 0.1625\n"
      ]
     },
     "metadata": {},
     "output_type": "display_data"
    }
   ],
   "source": [
    "fit1 = lm(logarea~., data =train )\n",
    "summary(fit1)"
   ]
  },
  {
   "cell_type": "code",
   "execution_count": 18,
   "metadata": {},
   "outputs": [
    {
     "name": "stdout",
     "output_type": "stream",
     "text": [
      "Start:  AIC=298.93\n",
      "logarea ~ X + Y + FFMC + DMC + DC + ISI + temp + RH + wind + \n",
      "    rain\n",
      "\n",
      "       Df Sum of Sq    RSS    AIC\n",
      "- FFMC  1    0.0439 807.57 296.95\n",
      "- temp  1    0.1824 807.71 297.02\n",
      "- Y     1    0.7909 808.32 297.33\n",
      "- rain  1    0.9122 808.44 297.40\n",
      "- X     1    1.5031 809.03 297.70\n",
      "- DC    1    1.5565 809.09 297.73\n",
      "- DMC   1    2.1794 809.71 298.04\n",
      "- ISI   1    3.5610 811.09 298.75\n",
      "<none>              807.53 298.93\n",
      "- RH    1    8.2073 815.74 301.11\n",
      "- wind  1    9.4090 816.94 301.71\n",
      "\n",
      "Step:  AIC=296.95\n",
      "logarea ~ X + Y + DMC + DC + ISI + temp + RH + wind + rain\n",
      "\n",
      "       Df Sum of Sq    RSS    AIC\n",
      "- temp  1    0.1730 807.75 295.04\n",
      "- Y     1    0.8044 808.38 295.36\n",
      "- rain  1    0.8935 808.47 295.41\n",
      "- X     1    1.4932 809.07 295.71\n",
      "- DC    1    1.5290 809.10 295.73\n",
      "- DMC   1    2.1405 809.71 296.05\n",
      "<none>              807.57 296.95\n",
      "- ISI   1    4.9219 812.50 297.46\n",
      "- RH    1    8.5853 816.16 299.32\n",
      "- wind  1    9.4296 817.00 299.75\n",
      "\n",
      "Step:  AIC=295.04\n",
      "logarea ~ X + Y + DMC + DC + ISI + RH + wind + rain\n",
      "\n",
      "       Df Sum of Sq    RSS    AIC\n",
      "- rain  1    0.7981 808.54 293.45\n",
      "- Y     1    0.8017 808.55 293.45\n",
      "- DC    1    1.3724 809.12 293.74\n",
      "- X     1    1.4577 809.20 293.79\n",
      "- DMC   1    1.9676 809.71 294.05\n",
      "<none>              807.75 295.04\n",
      "- ISI   1    5.9528 813.70 296.07\n",
      "- wind  1   10.3907 818.14 298.32\n",
      "- RH    1   11.7561 819.50 299.01\n",
      "\n",
      "Step:  AIC=293.45\n",
      "logarea ~ X + Y + DMC + DC + ISI + RH + wind\n",
      "\n",
      "       Df Sum of Sq    RSS    AIC\n",
      "- Y     1    0.7927 809.34 291.85\n",
      "- DC    1    1.3712 809.92 292.15\n",
      "- X     1    1.5974 810.14 292.26\n",
      "- DMC   1    2.0607 810.61 292.50\n",
      "<none>              808.54 293.45\n",
      "- ISI   1    5.6690 814.21 294.33\n",
      "- wind  1   10.7497 819.29 296.90\n",
      "- RH    1   11.2416 819.79 297.15\n",
      "\n",
      "Step:  AIC=291.85\n",
      "logarea ~ X + DMC + DC + ISI + RH + wind\n",
      "\n",
      "       Df Sum of Sq    RSS    AIC\n",
      "- DC    1    1.0868 810.42 290.41\n",
      "- DMC   1    2.6725 812.01 291.21\n",
      "<none>              809.34 291.85\n",
      "- X     1    4.1773 813.51 291.98\n",
      "- ISI   1    5.9669 815.30 292.89\n",
      "- wind  1   10.4442 819.78 295.15\n",
      "- RH    1   11.1812 820.52 295.52\n",
      "\n",
      "Step:  AIC=290.41\n",
      "logarea ~ X + DMC + ISI + RH + wind\n",
      "\n",
      "       Df Sum of Sq    RSS    AIC\n",
      "<none>              810.42 290.41\n",
      "- X     1    3.9647 814.39 290.42\n",
      "- ISI   1    5.5923 816.02 291.25\n",
      "- DMC   1    8.9712 819.40 292.95\n",
      "- wind  1    9.6026 820.03 293.27\n",
      "- RH    1   12.0101 822.43 294.48\n"
     ]
    }
   ],
   "source": [
    "#let's apply stepwise regression\n",
    "step1 <- step(fit1)"
   ]
  },
  {
   "cell_type": "markdown",
   "metadata": {},
   "source": [
    "As shown above, the best model is selected based on AIC after 6 steps. The best model has DMC and RH and X and ISI and wind as predictors."
   ]
  },
  {
   "cell_type": "code",
   "execution_count": 19,
   "metadata": {},
   "outputs": [
    {
     "data": {
      "image/png": "[encoded data removed]",
      "text/plain": [
       "Plot with title \"\""
      ]
     },
     "metadata": {
      "image/png": {
       "height": 420,
       "width": 420
      },
      "text/plain": {
       "height": 420,
       "width": 420
      }
     },
     "output_type": "display_data"
    }
   ],
   "source": [
    "#let's explore the plots\n",
    "par(mfcol=c(2,2))\n",
    "plot(fit1)"
   ]
  },
  {
   "cell_type": "code",
   "execution_count": 20,
   "metadata": {},
   "outputs": [
    {
     "data": {
      "text/html": [
       "1.51232498364624"
      ],
      "text/latex": [
       "1.51232498364624"
      ],
      "text/markdown": [
       "1.51232498364624"
      ],
      "text/plain": [
       "[1] 1.512325"
      ]
     },
     "metadata": {},
     "output_type": "display_data"
    }
   ],
   "source": [
    "RMSE(predict(fit1,test),test$logarea)           # RMSE for the first model built"
   ]
  },
  {
   "cell_type": "code",
   "execution_count": 21,
   "metadata": {},
   "outputs": [
    {
     "data": {
      "text/plain": [
       "\n",
       "Call:\n",
       "lm(formula = logarea ~ X + Y + FFMC + DMC + DC + ISI + temp + \n",
       "    RH + wind + rain + X:DMC:ISI:RH:wind, data = train)\n",
       "\n",
       "Residuals:\n",
       "    Min      1Q  Median      3Q     Max \n",
       "-3.4128 -0.9917 -0.5883  0.8657  5.2812 \n",
       "\n",
       "Coefficients:\n",
       "                    Estimate Std. Error t value Pr(>|t|)   \n",
       "(Intercept)        2.196e-01  1.632e+00   0.135  0.89304   \n",
       "X                  7.122e-02  3.969e-02   1.795  0.07348 . \n",
       "Y                  5.361e-02  6.837e-02   0.784  0.43345   \n",
       "FFMC              -2.322e-03  1.675e-02  -0.139  0.88978   \n",
       "DMC                3.495e-03  1.832e-03   1.908  0.05711 . \n",
       "DC                 3.372e-04  4.117e-04   0.819  0.41327   \n",
       "ISI               -1.114e-02  2.468e-02  -0.452  0.65181   \n",
       "temp              -6.214e-03  1.976e-02  -0.315  0.75329   \n",
       "RH                -7.421e-03  6.333e-03  -1.172  0.24202   \n",
       "wind               1.362e-01  4.640e-02   2.936  0.00351 **\n",
       "rain               2.881e-01  2.250e-01   1.280  0.20115   \n",
       "X:DMC:ISI:RH:wind -2.173e-07  9.505e-08  -2.286  0.02275 * \n",
       "---\n",
       "Signif. codes:  0 '***' 0.001 '**' 0.01 '*' 0.05 '.' 0.1 ' ' 1\n",
       "\n",
       "Residual standard error: 1.41 on 401 degrees of freedom\n",
       "Multiple R-squared:  0.04688,\tAdjusted R-squared:  0.02074 \n",
       "F-statistic: 1.793 on 11 and 401 DF,  p-value: 0.05317\n"
      ]
     },
     "metadata": {},
     "output_type": "display_data"
    }
   ],
   "source": [
    "#let's update the initial model\n",
    "fit2 = update(fit1, . ~ . + wind:RH: DMC:ISI:X)\n",
    "summary(fit2)"
   ]
  },
  {
   "cell_type": "code",
   "execution_count": 22,
   "metadata": {},
   "outputs": [
    {
     "data": {
      "text/plain": [
       "\n",
       "Call:\n",
       "lm(formula = logarea ~ X + Y + FFMC + DMC + DC + ISI + temp + \n",
       "    RH + wind + rain + X:DMC:RH, data = train)\n",
       "\n",
       "Residuals:\n",
       "    Min      1Q  Median      3Q     Max \n",
       "-3.5453 -0.9733 -0.5884  0.8303  4.9505 \n",
       "\n",
       "Coefficients:\n",
       "              Estimate Std. Error t value Pr(>|t|)   \n",
       "(Intercept) -9.569e-02  1.644e+00  -0.058  0.95361   \n",
       "X            1.300e-01  5.121e-02   2.538  0.01151 * \n",
       "Y            4.431e-02  6.805e-02   0.651  0.51538   \n",
       "FFMC         2.353e-03  1.680e-02   0.140  0.88870   \n",
       "DMC          6.452e-03  2.416e-03   2.670  0.00788 **\n",
       "DC           3.372e-04  4.107e-04   0.821  0.41208   \n",
       "ISI         -3.356e-02  2.307e-02  -1.454  0.14660   \n",
       "temp        -1.564e-02  2.003e-02  -0.781  0.43532   \n",
       "RH          -4.999e-03  6.540e-03  -0.764  0.44514   \n",
       "wind         9.052e-02  4.198e-02   2.156  0.03166 * \n",
       "rain         2.324e-01  2.181e-01   1.065  0.28730   \n",
       "X:DMC:RH    -1.771e-05  6.604e-06  -2.682  0.00761 **\n",
       "---\n",
       "Signif. codes:  0 '***' 0.001 '**' 0.01 '*' 0.05 '.' 0.1 ' ' 1\n",
       "\n",
       "Residual standard error: 1.407 on 401 degrees of freedom\n",
       "Multiple R-squared:  0.05147,\tAdjusted R-squared:  0.02546 \n",
       "F-statistic: 1.978 on 11 and 401 DF,  p-value: 0.0292\n"
      ]
     },
     "metadata": {},
     "output_type": "display_data"
    }
   ],
   "source": [
    "#let's update the initial model\n",
    "fit2 = update(fit1, . ~ . + X:RH: DMC)\n",
    "summary(fit2)"
   ]
  },
  {
   "cell_type": "code",
   "execution_count": 23,
   "metadata": {},
   "outputs": [
    {
     "data": {
      "text/plain": [
       "\n",
       "Call:\n",
       "lm(formula = logarea ~ X + Y + FFMC + DMC + DC + ISI + temp + \n",
       "    RH + wind + rain + X:DMC:RH, data = train)\n",
       "\n",
       "Residuals:\n",
       "    Min      1Q  Median      3Q     Max \n",
       "-3.5453 -0.9733 -0.5884  0.8303  4.9505 \n",
       "\n",
       "Coefficients:\n",
       "              Estimate Std. Error t value Pr(>|t|)   \n",
       "(Intercept) -9.569e-02  1.644e+00  -0.058  0.95361   \n",
       "X            1.300e-01  5.121e-02   2.538  0.01151 * \n",
       "Y            4.431e-02  6.805e-02   0.651  0.51538   \n",
       "FFMC         2.353e-03  1.680e-02   0.140  0.88870   \n",
       "DMC          6.452e-03  2.416e-03   2.670  0.00788 **\n",
       "DC           3.372e-04  4.107e-04   0.821  0.41208   \n",
       "ISI         -3.356e-02  2.307e-02  -1.454  0.14660   \n",
       "temp        -1.564e-02  2.003e-02  -0.781  0.43532   \n",
       "RH          -4.999e-03  6.540e-03  -0.764  0.44514   \n",
       "wind         9.052e-02  4.198e-02   2.156  0.03166 * \n",
       "rain         2.324e-01  2.181e-01   1.065  0.28730   \n",
       "X:DMC:RH    -1.771e-05  6.604e-06  -2.682  0.00761 **\n",
       "---\n",
       "Signif. codes:  0 '***' 0.001 '**' 0.01 '*' 0.05 '.' 0.1 ' ' 1\n",
       "\n",
       "Residual standard error: 1.407 on 401 degrees of freedom\n",
       "Multiple R-squared:  0.05147,\tAdjusted R-squared:  0.02546 \n",
       "F-statistic: 1.978 on 11 and 401 DF,  p-value: 0.0292\n"
      ]
     },
     "metadata": {},
     "output_type": "display_data"
    }
   ],
   "source": [
    "#Let's update the second model with RH and DMC\n",
    "fit3 = update(fit2, . ~ . + wind)\n",
    "summary(fit3)"
   ]
  },
  {
   "cell_type": "code",
   "execution_count": 24,
   "metadata": {},
   "outputs": [
    {
     "data": {
      "text/plain": [
       "\n",
       "Call:\n",
       "lm(formula = logarea ~ X + Y + FFMC + DMC + DC + ISI + temp + \n",
       "    RH + wind + rain + X:DMC + X:DMC:RH, data = train)\n",
       "\n",
       "Residuals:\n",
       "    Min      1Q  Median      3Q     Max \n",
       "-3.5432 -0.9715 -0.5897  0.8320  4.9779 \n",
       "\n",
       "Coefficients:\n",
       "              Estimate Std. Error t value Pr(>|t|)  \n",
       "(Intercept) -8.173e-02  1.652e+00  -0.049   0.9606  \n",
       "X            1.344e-01  6.794e-02   1.979   0.0485 *\n",
       "Y            4.481e-02  6.832e-02   0.656   0.5123  \n",
       "FFMC         2.088e-03  1.703e-02   0.123   0.9025  \n",
       "DMC          6.616e-03  2.925e-03   2.262   0.0242 *\n",
       "DC           3.355e-04  4.115e-04   0.815   0.4154  \n",
       "ISI         -3.337e-02  2.318e-02  -1.439   0.1509  \n",
       "temp        -1.544e-02  2.017e-02  -0.766   0.4444  \n",
       "RH          -5.349e-03  7.438e-03  -0.719   0.4724  \n",
       "wind         9.013e-02  4.222e-02   2.135   0.0334 *\n",
       "rain         2.313e-01  2.187e-01   1.058   0.2908  \n",
       "X:DMC       -6.734e-05  6.775e-04  -0.099   0.9209  \n",
       "X:DMC:RH    -1.703e-05  9.560e-06  -1.781   0.0756 .\n",
       "---\n",
       "Signif. codes:  0 '***' 0.001 '**' 0.01 '*' 0.05 '.' 0.1 ' ' 1\n",
       "\n",
       "Residual standard error: 1.408 on 400 degrees of freedom\n",
       "Multiple R-squared:  0.0515,\tAdjusted R-squared:  0.02304 \n",
       "F-statistic:  1.81 on 12 and 400 DF,  p-value: 0.04467\n"
      ]
     },
     "metadata": {},
     "output_type": "display_data"
    }
   ],
   "source": [
    "#Let's update the initial model with X:DMC\n",
    "fit4 = update(fit3, . ~ . + X: DMC)\n",
    "summary(fit4)"
   ]
  },
  {
   "cell_type": "code",
   "execution_count": 25,
   "metadata": {},
   "outputs": [
    {
     "data": {
      "text/plain": [
       "\n",
       "Call:\n",
       "lm(formula = logarea ~ X + DMC + ISI + temp + RH + wind + X:DMC + \n",
       "    X:DMC:RH, data = train)\n",
       "\n",
       "Residuals:\n",
       "    Min      1Q  Median      3Q     Max \n",
       "-3.6012 -0.9855 -0.5774  0.8457  4.9690 \n",
       "\n",
       "Coefficients:\n",
       "              Estimate Std. Error t value Pr(>|t|)   \n",
       "(Intercept)  2.051e-01  5.972e-01   0.343  0.73145   \n",
       "X            1.446e-01  6.594e-02   2.193  0.02885 * \n",
       "DMC          7.243e-03  2.711e-03   2.672  0.00785 **\n",
       "ISI         -3.222e-02  2.052e-02  -1.570  0.11711   \n",
       "temp        -8.531e-03  1.925e-02  -0.443  0.65791   \n",
       "RH          -4.824e-03  6.949e-03  -0.694  0.48796   \n",
       "wind         8.860e-02  4.160e-02   2.130  0.03378 * \n",
       "X:DMC       -1.141e-04  6.632e-04  -0.172  0.86345   \n",
       "X:DMC:RH    -1.551e-05  9.254e-06  -1.676  0.09454 . \n",
       "---\n",
       "Signif. codes:  0 '***' 0.001 '**' 0.01 '*' 0.05 '.' 0.1 ' ' 1\n",
       "\n",
       "Residual standard error: 1.405 on 404 degrees of freedom\n",
       "Multiple R-squared:  0.04663,\tAdjusted R-squared:  0.02775 \n",
       "F-statistic:  2.47 on 8 and 404 DF,  p-value: 0.0127\n"
      ]
     },
     "metadata": {},
     "output_type": "display_data"
    }
   ],
   "source": [
    "#Let's update the initial model4 with X:RH\n",
    "fit5 = update(fit4, . ~ . -FFMC-Y-DC-rain )\n",
    "summary(fit5)"
   ]
  },
  {
   "cell_type": "markdown",
   "metadata": {},
   "source": [
    "fit5 looks better to me as F-statisitc is high,residual standard error is less."
   ]
  },
  {
   "cell_type": "code",
   "execution_count": 26,
   "metadata": {},
   "outputs": [
    {
     "data": {
      "text/html": [
       "<table>\n",
       "<caption>A matrix: 9 × 2 of type dbl</caption>\n",
       "<thead>\n",
       "\t<tr><th></th><th scope=col>2.5 %</th><th scope=col>97.5 %</th></tr>\n",
       "</thead>\n",
       "<tbody>\n",
       "\t<tr><th scope=row>(Intercept)</th><td>-9.688582e-01</td><td>1.379041e+00</td></tr>\n",
       "\t<tr><th scope=row>X</th><td> 1.499832e-02</td><td>2.742422e-01</td></tr>\n",
       "\t<tr><th scope=row>DMC</th><td> 1.913212e-03</td><td>1.257181e-02</td></tr>\n",
       "\t<tr><th scope=row>ISI</th><td>-7.255851e-02</td><td>8.114454e-03</td></tr>\n",
       "\t<tr><th scope=row>temp</th><td>-4.637504e-02</td><td>2.931384e-02</td></tr>\n",
       "\t<tr><th scope=row>RH</th><td>-1.848599e-02</td><td>8.837343e-03</td></tr>\n",
       "\t<tr><th scope=row>wind</th><td> 6.824813e-03</td><td>1.703733e-01</td></tr>\n",
       "\t<tr><th scope=row>X:DMC</th><td>-1.417976e-03</td><td>1.189690e-03</td></tr>\n",
       "\t<tr><th scope=row>X:DMC:RH</th><td>-3.369897e-05</td><td>2.683315e-06</td></tr>\n",
       "</tbody>\n",
       "</table>\n"
      ],
      "text/latex": [
       "A matrix: 9 × 2 of type dbl\n",
       "\\begin{tabular}{r|ll}\n",
       "  & 2.5 \\% & 97.5 \\%\\\\\n",
       "\\hline\n",
       "\t(Intercept) & -9.688582e-01 & 1.379041e+00\\\\\n",
       "\tX &  1.499832e-02 & 2.742422e-01\\\\\n",
       "\tDMC &  1.913212e-03 & 1.257181e-02\\\\\n",
       "\tISI & -7.255851e-02 & 8.114454e-03\\\\\n",
       "\ttemp & -4.637504e-02 & 2.931384e-02\\\\\n",
       "\tRH & -1.848599e-02 & 8.837343e-03\\\\\n",
       "\twind &  6.824813e-03 & 1.703733e-01\\\\\n",
       "\tX:DMC & -1.417976e-03 & 1.189690e-03\\\\\n",
       "\tX:DMC:RH & -3.369897e-05 & 2.683315e-06\\\\\n",
       "\\end{tabular}\n"
      ],
      "text/markdown": [
       "\n",
       "A matrix: 9 × 2 of type dbl\n",
       "\n",
       "| <!--/--> | 2.5 % | 97.5 % |\n",
       "|---|---|---|\n",
       "| (Intercept) | -9.688582e-01 | 1.379041e+00 |\n",
       "| X |  1.499832e-02 | 2.742422e-01 |\n",
       "| DMC |  1.913212e-03 | 1.257181e-02 |\n",
       "| ISI | -7.255851e-02 | 8.114454e-03 |\n",
       "| temp | -4.637504e-02 | 2.931384e-02 |\n",
       "| RH | -1.848599e-02 | 8.837343e-03 |\n",
       "| wind |  6.824813e-03 | 1.703733e-01 |\n",
       "| X:DMC | -1.417976e-03 | 1.189690e-03 |\n",
       "| X:DMC:RH | -3.369897e-05 | 2.683315e-06 |\n",
       "\n"
      ],
      "text/plain": [
       "            2.5 %         97.5 %      \n",
       "(Intercept) -9.688582e-01 1.379041e+00\n",
       "X            1.499832e-02 2.742422e-01\n",
       "DMC          1.913212e-03 1.257181e-02\n",
       "ISI         -7.255851e-02 8.114454e-03\n",
       "temp        -4.637504e-02 2.931384e-02\n",
       "RH          -1.848599e-02 8.837343e-03\n",
       "wind         6.824813e-03 1.703733e-01\n",
       "X:DMC       -1.417976e-03 1.189690e-03\n",
       "X:DMC:RH    -3.369897e-05 2.683315e-06"
      ]
     },
     "metadata": {},
     "output_type": "display_data"
    }
   ],
   "source": [
    "confint(fit5, level = 0.95)"
   ]
  },
  {
   "cell_type": "code",
   "execution_count": 27,
   "metadata": {},
   "outputs": [
    {
     "data": {
      "image/png": "[encoded data removed]",
      "text/plain": [
       "Plot with title \"\""
      ]
     },
     "metadata": {
      "image/png": {
       "height": 420,
       "width": 420
      },
      "text/plain": {
       "height": 420,
       "width": 420
      }
     },
     "output_type": "display_data"
    }
   ],
   "source": [
    "#let's have a closer look at the plot of fit4 to observe the deviation of all points\n",
    "plot(fit5, which = 3)"
   ]
  },
  {
   "cell_type": "code",
   "execution_count": 28,
   "metadata": {},
   "outputs": [
    {
     "data": {
      "text/plain": [
       "No Studentized residuals with Bonferroni p < 0.05\n",
       "Largest |rstudent|:\n",
       "    rstudent unadjusted p-value Bonferroni p\n",
       "416 3.714224         0.00023256     0.096048"
      ]
     },
     "metadata": {},
     "output_type": "display_data"
    }
   ],
   "source": [
    "#let's perform the outlierTest and find out if any points are outliers \n",
    "library(car)\n",
    "outlierTest(fit5, cutoff=0.05, digits = 1)"
   ]
  },
  {
   "cell_type": "code",
   "execution_count": 29,
   "metadata": {},
   "outputs": [
    {
     "data": {
      "image/png": "[encoded data removed]",
      "text/plain": [
       "Plot with title \"\""
      ]
     },
     "metadata": {
      "image/png": {
       "height": 420,
       "width": 420
      },
      "text/plain": {
       "height": 420,
       "width": 420
      }
     },
     "output_type": "display_data"
    }
   ],
   "source": [
    "par(mfcol=c(2,2))\n",
    "plot(fit5)"
   ]
  },
  {
   "cell_type": "code",
   "execution_count": 30,
   "metadata": {},
   "outputs": [
    {
     "name": "stderr",
     "output_type": "stream",
     "text": [
      "Warning message in plot.window(...):\n",
      "\"\"id.method\" is not a graphical parameter\"\n",
      "Warning message in plot.xy(xy, type, ...):\n",
      "\"\"id.method\" is not a graphical parameter\"\n",
      "Warning message in axis(side = side, at = at, labels = labels, ...):\n",
      "\"\"id.method\" is not a graphical parameter\"\n",
      "Warning message in axis(side = side, at = at, labels = labels, ...):\n",
      "\"\"id.method\" is not a graphical parameter\"\n",
      "Warning message in box(...):\n",
      "\"\"id.method\" is not a graphical parameter\"\n",
      "Warning message in title(...):\n",
      "\"\"id.method\" is not a graphical parameter\"\n",
      "Warning message in plot.xy(xy.coords(x, y), type = type, ...):\n",
      "\"\"id.method\" is not a graphical parameter\"\n"
     ]
    },
    {
     "data": {
      "text/html": [
       "<table>\n",
       "<caption>A data.frame: 5 × 3</caption>\n",
       "<thead>\n",
       "\t<tr><th></th><th scope=col>StudRes</th><th scope=col>Hat</th><th scope=col>CookD</th></tr>\n",
       "\t<tr><th></th><th scope=col>&lt;dbl&gt;</th><th scope=col>&lt;dbl&gt;</th><th scope=col>&lt;dbl&gt;</th></tr>\n",
       "</thead>\n",
       "<tbody>\n",
       "\t<tr><th scope=row>514</th><td> 2.44458080</td><td>0.06311925</td><td>4.419034e-02</td></tr>\n",
       "\t<tr><th scope=row>237</th><td> 3.35220499</td><td>0.01028726</td><td>1.265731e-02</td></tr>\n",
       "\t<tr><th scope=row>423</th><td>-0.05786302</td><td>0.11295145</td><td>4.748723e-05</td></tr>\n",
       "\t<tr><th scope=row>449</th><td>-0.18124702</td><td>0.11592862</td><td>4.797815e-04</td></tr>\n",
       "\t<tr><th scope=row>416</th><td> 3.71422429</td><td>0.06443917</td><td>1.023364e-01</td></tr>\n",
       "</tbody>\n",
       "</table>\n"
      ],
      "text/latex": [
       "A data.frame: 5 × 3\n",
       "\\begin{tabular}{r|lll}\n",
       "  & StudRes & Hat & CookD\\\\\n",
       "  & <dbl> & <dbl> & <dbl>\\\\\n",
       "\\hline\n",
       "\t514 &  2.44458080 & 0.06311925 & 4.419034e-02\\\\\n",
       "\t237 &  3.35220499 & 0.01028726 & 1.265731e-02\\\\\n",
       "\t423 & -0.05786302 & 0.11295145 & 4.748723e-05\\\\\n",
       "\t449 & -0.18124702 & 0.11592862 & 4.797815e-04\\\\\n",
       "\t416 &  3.71422429 & 0.06443917 & 1.023364e-01\\\\\n",
       "\\end{tabular}\n"
      ],
      "text/markdown": [
       "\n",
       "A data.frame: 5 × 3\n",
       "\n",
       "| <!--/--> | StudRes &lt;dbl&gt; | Hat &lt;dbl&gt; | CookD &lt;dbl&gt; |\n",
       "|---|---|---|---|\n",
       "| 514 |  2.44458080 | 0.06311925 | 4.419034e-02 |\n",
       "| 237 |  3.35220499 | 0.01028726 | 1.265731e-02 |\n",
       "| 423 | -0.05786302 | 0.11295145 | 4.748723e-05 |\n",
       "| 449 | -0.18124702 | 0.11592862 | 4.797815e-04 |\n",
       "| 416 |  3.71422429 | 0.06443917 | 1.023364e-01 |\n",
       "\n"
      ],
      "text/plain": [
       "    StudRes     Hat        CookD       \n",
       "514  2.44458080 0.06311925 4.419034e-02\n",
       "237  3.35220499 0.01028726 1.265731e-02\n",
       "423 -0.05786302 0.11295145 4.748723e-05\n",
       "449 -0.18124702 0.11592862 4.797815e-04\n",
       "416  3.71422429 0.06443917 1.023364e-01"
      ]
     },
     "metadata": {},
     "output_type": "display_data"
    },
    {
     "data": {
      "image/png": "[encoded data removed]",
      "text/plain": [
       "Plot with title \"Influence Plot\""
      ]
     },
     "metadata": {
      "image/png": {
       "height": 420,
       "width": 420
      },
      "text/plain": {
       "height": 420,
       "width": 420
      }
     },
     "output_type": "display_data"
    }
   ],
   "source": [
    "#let's plot influence plot to get to know the points which are influencing our data points\n",
    "influencePlot(fit5, scale=5, id.method=\"noteworthy\", main=\"Influence Plot\", sub=\"Circle size is proportial to Cook's Distance\" )"
   ]
  },
  {
   "cell_type": "markdown",
   "metadata": {},
   "source": [
    "<p>Vertical reference lines are drawn at twice and three times the average hat value, horizontal reference lines at -2, 0, and 2 on the Studentized-residual scale.</p>"
   ]
  },
  {
   "cell_type": "code",
   "execution_count": 31,
   "metadata": {},
   "outputs": [
    {
     "name": "stdout",
     "output_type": "stream",
     "text": [
      "[1] 122\n",
      "[1] 130\n",
      "[1] 157\n",
      "[1] 273\n",
      "[1] 288\n"
     ]
    }
   ],
   "source": [
    "#lets find the index of points which are outliers from the train dataset\n",
    "for (i in c(514,237,423,449,416)){\n",
    "    print(which(train_ind==i))\n",
    "}"
   ]
  },
  {
   "cell_type": "markdown",
   "metadata": {},
   "source": [
    "As we can see, indexes 58,130,288,224,151 have influence points,let's remove them"
   ]
  },
  {
   "cell_type": "code",
   "execution_count": 32,
   "metadata": {},
   "outputs": [
    {
     "data": {
      "text/html": [
       "<style>\n",
       ".list-inline {list-style: none; margin:0; padding: 0}\n",
       ".list-inline>li {display: inline-block}\n",
       ".list-inline>li:not(:last-child)::after {content: \"\\00b7\"; padding: 0 .5ex}\n",
       "</style>\n",
       "<ol class=list-inline><li>408</li><li>11</li></ol>\n"
      ],
      "text/latex": [
       "\\begin{enumerate*}\n",
       "\\item 408\n",
       "\\item 11\n",
       "\\end{enumerate*}\n"
      ],
      "text/markdown": [
       "1. 408\n",
       "2. 11\n",
       "\n",
       "\n"
      ],
      "text/plain": [
       "[1] 408  11"
      ]
     },
     "metadata": {},
     "output_type": "display_data"
    }
   ],
   "source": [
    "train_nout=train[-c(122,130,157,273,288),]\n",
    "dim(train_nout)  #we have removed the outliers"
   ]
  },
  {
   "cell_type": "code",
   "execution_count": 33,
   "metadata": {},
   "outputs": [
    {
     "data": {
      "text/plain": [
       "\n",
       "Call:\n",
       "lm(formula = logarea ~ ., data = train_nout)\n",
       "\n",
       "Residuals:\n",
       "    Min      1Q  Median      3Q     Max \n",
       "-3.4565 -0.9671 -0.6213  0.8935  4.3101 \n",
       "\n",
       "Coefficients:\n",
       "              Estimate Std. Error t value Pr(>|t|)  \n",
       "(Intercept)  1.0969912  1.5566081   0.705   0.4814  \n",
       "X            0.0331758  0.0349435   0.949   0.3430  \n",
       "Y            0.0449509  0.0668175   0.673   0.5015  \n",
       "FFMC        -0.0017480  0.0163325  -0.107   0.9148  \n",
       "DMC          0.0018406  0.0016716   1.101   0.2715  \n",
       "DC           0.0003533  0.0004017   0.880   0.3797  \n",
       "ISI         -0.0269018  0.0227077  -1.185   0.2368  \n",
       "temp        -0.0144797  0.0196716  -0.736   0.4621  \n",
       "RH          -0.0133032  0.0059141  -2.249   0.0250 *\n",
       "wind         0.0849368  0.0413180   2.056   0.0405 *\n",
       "rain         0.1661922  0.2105962   0.789   0.4305  \n",
       "---\n",
       "Signif. codes:  0 '***' 0.001 '**' 0.01 '*' 0.05 '.' 0.1 ' ' 1\n",
       "\n",
       "Residual standard error: 1.372 on 397 degrees of freedom\n",
       "Multiple R-squared:  0.03482,\tAdjusted R-squared:  0.0105 \n",
       "F-statistic: 1.432 on 10 and 397 DF,  p-value: 0.1637\n"
      ]
     },
     "metadata": {},
     "output_type": "display_data"
    }
   ],
   "source": [
    "#Let's first build the linear regression model\n",
    "newfit1 = lm(logarea~., data = train_nout)\n",
    "summary(newfit1)\n"
   ]
  },
  {
   "cell_type": "code",
   "execution_count": 34,
   "metadata": {},
   "outputs": [
    {
     "name": "stdout",
     "output_type": "stream",
     "text": [
      "Start:  AIC=268.9\n",
      "logarea ~ X + Y + FFMC + DMC + DC + ISI + temp + RH + wind + \n",
      "    rain\n",
      "\n",
      "       Df Sum of Sq    RSS    AIC\n",
      "- FFMC  1    0.0216 747.27 266.91\n",
      "- Y     1    0.8519 748.11 267.36\n",
      "- temp  1    1.0198 748.27 267.45\n",
      "- rain  1    1.1722 748.43 267.54\n",
      "- DC    1    1.4560 748.71 267.69\n",
      "- X     1    1.6966 748.95 267.82\n",
      "- DMC   1    2.2820 749.54 268.14\n",
      "- ISI   1    2.6418 749.89 268.34\n",
      "<none>              747.25 268.90\n",
      "- wind  1    7.9541 755.21 271.22\n",
      "- RH    1    9.5238 756.78 272.06\n",
      "\n",
      "Step:  AIC=266.91\n",
      "logarea ~ X + Y + DMC + DC + ISI + temp + RH + wind + rain\n",
      "\n",
      "       Df Sum of Sq    RSS    AIC\n",
      "- Y     1    0.8617 748.14 265.38\n",
      "- temp  1    1.0066 748.28 265.46\n",
      "- rain  1    1.1589 748.43 265.54\n",
      "- DC    1    1.4395 748.71 265.69\n",
      "- X     1    1.6875 748.96 265.83\n",
      "- DMC   1    2.2832 749.56 266.15\n",
      "- ISI   1    3.5482 750.82 266.84\n",
      "<none>              747.27 266.91\n",
      "- wind  1    7.9636 755.24 269.23\n",
      "- RH    1   10.1068 757.38 270.39\n",
      "\n",
      "Step:  AIC=265.38\n",
      "logarea ~ X + DMC + DC + ISI + temp + RH + wind + rain\n",
      "\n",
      "       Df Sum of Sq    RSS    AIC\n",
      "- temp  1    1.0322 749.17 263.94\n",
      "- DC    1    1.1431 749.28 264.00\n",
      "- rain  1    1.1496 749.29 264.00\n",
      "- DMC   1    2.9388 751.08 264.98\n",
      "<none>              748.14 265.38\n",
      "- ISI   1    3.7469 751.88 265.42\n",
      "- X     1    4.4029 752.54 265.77\n",
      "- wind  1    7.6489 755.79 267.53\n",
      "- RH    1   10.0750 758.21 268.84\n",
      "\n",
      "Step:  AIC=263.94\n",
      "logarea ~ X + DMC + DC + ISI + RH + wind + rain\n",
      "\n",
      "       Df Sum of Sq    RSS    AIC\n",
      "- DC    1    0.7425 749.91 262.35\n",
      "- rain  1    0.8664 750.04 262.41\n",
      "- DMC   1    2.1629 751.33 263.12\n",
      "<none>              749.17 263.94\n",
      "- X     1    4.1786 753.35 264.21\n",
      "- ISI   1    5.5510 754.72 264.95\n",
      "- wind  1    9.3946 758.56 267.02\n",
      "- RH    1   10.6585 759.83 267.70\n",
      "\n",
      "Step:  AIC=262.34\n",
      "logarea ~ X + DMC + ISI + RH + wind + rain\n",
      "\n",
      "       Df Sum of Sq    RSS    AIC\n",
      "- rain  1    0.8649 750.78 260.81\n",
      "<none>              749.91 262.35\n",
      "- X     1    4.0512 753.96 262.54\n",
      "- ISI   1    5.2536 755.16 263.19\n",
      "- DMC   1    6.9091 756.82 264.09\n",
      "- wind  1    8.7669 758.68 265.09\n",
      "- RH    1   11.4173 761.33 266.51\n",
      "\n",
      "Step:  AIC=260.81\n",
      "logarea ~ X + DMC + ISI + RH + wind\n",
      "\n",
      "       Df Sum of Sq    RSS    AIC\n",
      "<none>              750.78 260.81\n",
      "- X     1    4.3392 755.12 261.17\n",
      "- ISI   1    4.9768 755.75 261.51\n",
      "- DMC   1    7.1754 757.95 262.70\n",
      "- wind  1    9.1224 759.90 263.74\n",
      "- RH    1   10.8824 761.66 264.69\n"
     ]
    }
   ],
   "source": [
    "#let's build the step of our built model and find the influencing parameters\n",
    "step_n1=step(newfit1)"
   ]
  },
  {
   "cell_type": "markdown",
   "metadata": {},
   "source": [
    "I have tried building models with interactions ISI:DMC:RH and ISI:DMC and ISI:RH without removing wind,X,Y,rain but each fit gave a model having less F-statistic,less R-squared,less Adjusted R-squared but the below combination gave good results compared to the previous one."
   ]
  },
  {
   "cell_type": "code",
   "execution_count": 35,
   "metadata": {},
   "outputs": [
    {
     "data": {
      "text/plain": [
       "\n",
       "Call:\n",
       "lm(formula = logarea ~ X + DMC + ISI + RH + wind + DMC:RH, data = train_nout)\n",
       "\n",
       "Residuals:\n",
       "    Min      1Q  Median      3Q     Max \n",
       "-3.5921 -0.9563 -0.6102  0.8809  4.1267 \n",
       "\n",
       "Coefficients:\n",
       "              Estimate Std. Error t value Pr(>|t|)  \n",
       "(Intercept)  4.472e-01  4.703e-01   0.951   0.3422  \n",
       "X            4.542e-02  2.946e-02   1.542   0.1240  \n",
       "DMC          6.125e-03  3.378e-03   1.813   0.0705 .\n",
       "ISI         -3.397e-02  1.930e-02  -1.760   0.0792 .\n",
       "RH          -2.784e-03  7.669e-03  -0.363   0.7168  \n",
       "wind         9.794e-02  4.038e-02   2.425   0.0157 *\n",
       "DMC:RH      -7.529e-05  6.228e-05  -1.209   0.2274  \n",
       "---\n",
       "Signif. codes:  0 '***' 0.001 '**' 0.01 '*' 0.05 '.' 0.1 ' ' 1\n",
       "\n",
       "Residual standard error: 1.366 on 401 degrees of freedom\n",
       "Multiple R-squared:  0.03379,\tAdjusted R-squared:  0.01933 \n",
       "F-statistic: 2.337 on 6 and 401 DF,  p-value: 0.03135\n"
      ]
     },
     "metadata": {},
     "output_type": "display_data"
    }
   ],
   "source": [
    "#add the updation step\n",
    "newfit2 = update(newfit1, . ~ . + DMC:RH+X-Y+wind-rain-FFMC-temp-DC)\n",
    "summary(newfit2)"
   ]
  },
  {
   "cell_type": "code",
   "execution_count": 36,
   "metadata": {},
   "outputs": [],
   "source": [
    "#let's predict our values for the test dataset\n",
    "pred1=predict(newfit2,test)\n"
   ]
  },
  {
   "cell_type": "code",
   "execution_count": 37,
   "metadata": {},
   "outputs": [
    {
     "data": {
      "text/html": [
       "1.16954120773994"
      ],
      "text/latex": [
       "1.16954120773994"
      ],
      "text/markdown": [
       "1.16954120773994"
      ],
      "text/plain": [
       "[1] 1.169541"
      ]
     },
     "metadata": {},
     "output_type": "display_data"
    }
   ],
   "source": [
    "library(MLmetrics)\n",
    "#Let's print MAE\n",
    "MAE(pred1,test$logarea)"
   ]
  },
  {
   "cell_type": "code",
   "execution_count": 38,
   "metadata": {},
   "outputs": [
    {
     "data": {
      "text/html": [
       "1.50639293108692"
      ],
      "text/latex": [
       "1.50639293108692"
      ],
      "text/markdown": [
       "1.50639293108692"
      ],
      "text/plain": [
       "[1] 1.506393"
      ]
     },
     "metadata": {},
     "output_type": "display_data"
    }
   ],
   "source": [
    "#let's print RMSE\n",
    "sqrt(mean((pred1-test$logarea)^2))"
   ]
  },
  {
   "cell_type": "code",
   "execution_count": 39,
   "metadata": {},
   "outputs": [
    {
     "name": "stdout",
     "output_type": "stream",
     "text": [
      "Linear Regression \n",
      "\n",
      "408 samples\n",
      " 10 predictor\n",
      "\n",
      "No pre-processing\n",
      "Resampling: Leave-One-Out Cross-Validation \n",
      "Summary of sample sizes: 407, 407, 407, 407, 407, 407, ... \n",
      "Resampling results:\n",
      "\n",
      "  RMSE      Rsquared      MAE     \n",
      "  1.420335  1.053648e-05  1.154258\n",
      "\n",
      "Tuning parameter 'intercept' was held constant at a value of TRUE\n"
     ]
    }
   ],
   "source": [
    "# Define training control\n",
    "train.control <- trainControl(method = \"LOOCV\")\n",
    "# Train the model\n",
    "model <- train(logarea ~., data = train_nout, method = \"lm\",\n",
    "               trControl = train.control)\n",
    "# Summarize the results\n",
    "print(model)"
   ]
  },
  {
   "cell_type": "code",
   "execution_count": 40,
   "metadata": {},
   "outputs": [
    {
     "data": {
      "text/html": [
       "1.51180696156077"
      ],
      "text/latex": [
       "1.51180696156077"
      ],
      "text/markdown": [
       "1.51180696156077"
      ],
      "text/plain": [
       "[1] 1.511807"
      ]
     },
     "metadata": {},
     "output_type": "display_data"
    }
   ],
   "source": [
    "RMSE(predict(model,test),test$logarea)                     #print RMSE of LOOCV model"
   ]
  },
  {
   "cell_type": "code",
   "execution_count": 41,
   "metadata": {},
   "outputs": [
    {
     "data": {
      "text/html": [
       "1.17020920450744"
      ],
      "text/latex": [
       "1.17020920450744"
      ],
      "text/markdown": [
       "1.17020920450744"
      ],
      "text/plain": [
       "[1] 1.170209"
      ]
     },
     "metadata": {},
     "output_type": "display_data"
    }
   ],
   "source": [
    "MAE(predict(model,test),test$logarea)                      #print MAE of LOOCV model"
   ]
  },
  {
   "cell_type": "markdown",
   "metadata": {},
   "source": [
    "We have done LOOCV cross validation, and the results are same as before model without LOOCV, Thus, it didn't show that much effect. Lets try K-fold cross validation"
   ]
  },
  {
   "cell_type": "code",
   "execution_count": 42,
   "metadata": {},
   "outputs": [
    {
     "name": "stdout",
     "output_type": "stream",
     "text": [
      "Linear Regression \n",
      "\n",
      "408 samples\n",
      " 10 predictor\n",
      "\n",
      "No pre-processing\n",
      "Resampling: Cross-Validated (10 fold) \n",
      "Summary of sample sizes: 367, 367, 367, 367, 366, 368, ... \n",
      "Resampling results:\n",
      "\n",
      "  RMSE      Rsquared    MAE     \n",
      "  1.412543  0.01399661  1.156816\n",
      "\n",
      "Tuning parameter 'intercept' was held constant at a value of TRUE\n"
     ]
    }
   ],
   "source": [
    "#K fold cross validation\n",
    "train.cont <- trainControl(method = \"cv\",number=10)\n",
    "# Train the model\n",
    "kfmodel <- train(logarea ~., data = train_nout, method = \"lm\",\n",
    "               trControl = train.cont)\n",
    "# Summarize the results\n",
    "print(kfmodel)"
   ]
  },
  {
   "cell_type": "code",
   "execution_count": 43,
   "metadata": {},
   "outputs": [
    {
     "data": {
      "text/html": [
       "1.51180696156077"
      ],
      "text/latex": [
       "1.51180696156077"
      ],
      "text/markdown": [
       "1.51180696156077"
      ],
      "text/plain": [
       "[1] 1.511807"
      ]
     },
     "metadata": {},
     "output_type": "display_data"
    }
   ],
   "source": [
    "RMSE(predict(kfmodel,test),test$logarea)                      #print RMSE of 10-fold cv model           "
   ]
  },
  {
   "cell_type": "code",
   "execution_count": 44,
   "metadata": {},
   "outputs": [
    {
     "data": {
      "text/html": [
       "1.17020920450744"
      ],
      "text/latex": [
       "1.17020920450744"
      ],
      "text/markdown": [
       "1.17020920450744"
      ],
      "text/plain": [
       "[1] 1.170209"
      ]
     },
     "metadata": {},
     "output_type": "display_data"
    }
   ],
   "source": [
    "MAE(predict(kfmodel,test),test$logarea)                        #print MAE of 10-fold cv model "
   ]
  },
  {
   "cell_type": "markdown",
   "metadata": {},
   "source": [
    "The 10 fold cross-validation also gave similar results as that of LOOCV."
   ]
  },
  {
   "cell_type": "markdown",
   "metadata": {},
   "source": [
    "### Model 2 - Random Forest"
   ]
  },
  {
   "cell_type": "code",
   "execution_count": 45,
   "metadata": {},
   "outputs": [
    {
     "name": "stdout",
     "output_type": "stream",
     "text": [
      "Random Forest \n",
      "\n",
      "408 samples\n",
      " 10 predictor\n",
      "\n",
      "No pre-processing\n",
      "Resampling: Cross-Validated (10 fold) \n",
      "Summary of sample sizes: 367, 367, 367, 366, 367, 367, ... \n",
      "Resampling results across tuning parameters:\n",
      "\n",
      "  mtry  RMSE      Rsquared    MAE     \n",
      "   2    1.396624  0.03129679  1.150150\n",
      "   6    1.411124  0.03156698  1.161853\n",
      "  10    1.413619  0.03091239  1.163065\n",
      "\n",
      "RMSE was used to select the optimal model using the smallest value.\n",
      "The final value used for the model was mtry = 2.\n"
     ]
    }
   ],
   "source": [
    "#K fold cross validation\n",
    "#using dataset as train_out which was prepared earlier,it does not have month,day columns and outliers are removed\n",
    "train.cont <- trainControl(method = \"cv\",number=10)\n",
    "# Train the model\n",
    "rfmodel <- train(logarea ~., data = train_nout, method = \"rf\",\n",
    "               trControl = train.cont)\n",
    "# Summarize the results\n",
    "print(rfmodel)"
   ]
  },
  {
   "cell_type": "code",
   "execution_count": 46,
   "metadata": {},
   "outputs": [
    {
     "data": {
      "text/plain": [
       "\n",
       "Call:\n",
       " randomForest(x = x, y = y, mtry = param$mtry) \n",
       "               Type of random forest: regression\n",
       "                     Number of trees: 500\n",
       "No. of variables tried at each split: 2\n",
       "\n",
       "          Mean of squared residuals: 2.000337\n",
       "                    % Var explained: -5.42"
      ]
     },
     "metadata": {},
     "output_type": "display_data"
    }
   ],
   "source": [
    "rfmodel$finalModel                                       #print the final rf model"
   ]
  },
  {
   "cell_type": "code",
   "execution_count": 47,
   "metadata": {},
   "outputs": [
    {
     "data": {
      "text/html": [
       "1.54384666199097"
      ],
      "text/latex": [
       "1.54384666199097"
      ],
      "text/markdown": [
       "1.54384666199097"
      ],
      "text/plain": [
       "[1] 1.543847"
      ]
     },
     "metadata": {},
     "output_type": "display_data"
    }
   ],
   "source": [
    "RMSE(predict(rfmodel,test),test$logarea)                    #print the RMSE of random forest predictions"
   ]
  },
  {
   "cell_type": "code",
   "execution_count": 48,
   "metadata": {},
   "outputs": [
    {
     "data": {
      "text/html": [
       "1.20030415384467"
      ],
      "text/latex": [
       "1.20030415384467"
      ],
      "text/markdown": [
       "1.20030415384467"
      ],
      "text/plain": [
       "[1] 1.200304"
      ]
     },
     "metadata": {},
     "output_type": "display_data"
    }
   ],
   "source": [
    "MAE(predict(rfmodel,test),test$logarea)                     #print the MAE of random forest predictions"
   ]
  },
  {
   "cell_type": "code",
   "execution_count": 49,
   "metadata": {},
   "outputs": [
    {
     "name": "stdout",
     "output_type": "stream",
     "text": [
      "Random Forest \n",
      "\n",
      "413 samples\n",
      " 10 predictor\n",
      "\n",
      "No pre-processing\n",
      "Resampling: Cross-Validated (10 fold) \n",
      "Summary of sample sizes: 371, 371, 371, 373, 372, 372, ... \n",
      "Resampling results across tuning parameters:\n",
      "\n",
      "  mtry  RMSE      Rsquared     MAE     \n",
      "   2    1.451652  0.007771501  1.178311\n",
      "   6    1.452675  0.013408032  1.180584\n",
      "  10    1.464719  0.011779983  1.190762\n",
      "\n",
      "RMSE was used to select the optimal model using the smallest value.\n",
      "The final value used for the model was mtry = 2.\n"
     ]
    }
   ],
   "source": [
    "#K fold cross validation\n",
    "#second model for random forest,it has data has train data which has all attributes.\n",
    "train.cont <- trainControl(method = \"cv\",number=10)\n",
    "# Train the model\n",
    "rfmodel1 <- train(logarea ~., data = train, method = \"rf\",\n",
    "               trControl = train.cont)\n",
    "# Summarize the results\n",
    "print(rfmodel1)"
   ]
  },
  {
   "cell_type": "code",
   "execution_count": 50,
   "metadata": {},
   "outputs": [
    {
     "data": {
      "text/html": [
       "1.54709090662948"
      ],
      "text/latex": [
       "1.54709090662948"
      ],
      "text/markdown": [
       "1.54709090662948"
      ],
      "text/plain": [
       "[1] 1.547091"
      ]
     },
     "metadata": {},
     "output_type": "display_data"
    }
   ],
   "source": [
    "RMSE(predict(rfmodel1,test),test$logarea)                      #print the RMSE of random forest model 1"
   ]
  },
  {
   "cell_type": "code",
   "execution_count": 51,
   "metadata": {},
   "outputs": [
    {
     "data": {
      "text/html": [
       "1.21136957650375"
      ],
      "text/latex": [
       "1.21136957650375"
      ],
      "text/markdown": [
       "1.21136957650375"
      ],
      "text/plain": [
       "[1] 1.21137"
      ]
     },
     "metadata": {},
     "output_type": "display_data"
    }
   ],
   "source": [
    "MAE(predict(rfmodel1,test),test$logarea)                       #print the MAE of random forest model 1"
   ]
  },
  {
   "cell_type": "markdown",
   "metadata": {},
   "source": [
    "We can see from above metrics that rfmodel is better than rfmodel1 as it has less MAE and R-squared.That may be because we have removed the outliers"
   ]
  },
  {
   "cell_type": "markdown",
   "metadata": {},
   "source": [
    "## 4. Model Comparsion<a class=\"anchor\" id=\"sec_4\"></a>"
   ]
  },
  {
   "cell_type": "markdown",
   "metadata": {},
   "source": [
    "By comparing linear regression and Random forest models we can observe that\n",
    "<p>RMSE for RandomForest-1.54|---------------------------------|RMSE for Linear Regression-1.51\n",
    "<p>MAE for RandomForest-1.20|----------------------------------|RMSE for Linear Regression-1.17\n",
    "    \n",
    "<p> The ultimate goal of any Machine Learning model is that we should have very less error, be it RMSE,MAE or MSE. So here,we got good values for Linear Regression compared to RandomForest. Though the difference between them(RMSE's and MAE's of 2 models) is not so high, Linear Regression is better than Random Forest. </p>\n",
    "\n",
    "<p> We have performed K fold cross-validation with 10 folds and LOOCV techniques but the results were not that different with without using these methods."
   ]
  },
  {
   "cell_type": "markdown",
   "metadata": {},
   "source": [
    "## 5. Variable Identification and Explanation <a class=\"anchor\" id=\"sec_5\"></a>"
   ]
  },
  {
   "cell_type": "markdown",
   "metadata": {},
   "source": [
    "<li> We have checked building our model with area as given in the dataset,and results were not satisfying.So log transformation is done for area column.It has drastically improved our results\n",
    "\n",
    "\n",
    "<p><li>Variable selection was made using step wise selection using linear regression, In statistics, stepwise regression is a method of fitting regression models in which the choice of predictive variables is carried out by an automatic procedure. In each step, a variable is considered for addition to or subtraction from the set of explanatory variables based on some prespecified criterion. Usually, this takes the form of a sequence of F-tests or t-tests, but other techniques are possible, such as adjusted R2, Akaike information criterion, Bayesian information criterion, Mallows's Cp, PRESS, or false discovery rate.\n",
    "<ol><li> We have used a backward stepsize regression method where we started with all paramters initially and deleting the variable (if any) whose loss gives the most statistically insignificant deterioration of the model fit, and repeating this process until no further variables can be deleted without a statistically insignificant loss of fit. Thus we were left with X,ISI,DMC,wind and RH at the end.\n",
    "<li> Then later, we added interactions like +X:ISI or -DC-rain etc for updating our model and making it better so that we would have a least Residual standard error,higher Multiple R-squared,\tAdjusted R-squared and F-statistic.\n",
    "    </ol>\n",
    "<li> Even though we have 13 attributes in our dataset, all were not contributing for better prediction of burned area\n"
   ]
  },
  {
   "cell_type": "markdown",
   "metadata": {},
   "source": [
    "## 6. Conclusion <a class=\"anchor\" id=\"sec_6\"></a>"
   ]
  },
  {
   "cell_type": "markdown",
   "metadata": {},
   "source": [
    "Let's visit the question which were asked before we did this analysis\n",
    "<p><b>Can we accurately predict the burned area of a bushfire given the collected data?</b></p>\n",
    "<p>I feel we can only predict the burned area upto some extent correctly, but fully not develop a robust model which can accurately predict the burned area of forestfires. The reason for this is that the correlation values are very less for 'area' attribute with other attributes and moreover there were high negative correlation between RH and temp which was effecting the model.\n",
    "<p> We have found that DMC,RH,wind,ISI,X are playing an important role in predicting the burned area.</p>\n",
    "<p> We only have 517 rows of data which is less for building a good model,we need thousands of rows of data for building a complex model which has less bias and varience."
   ]
  },
  {
   "cell_type": "markdown",
   "metadata": {},
   "source": [
    "## 7. References <a class=\"anchor\" id=\"sec_7\"></a>"
   ]
  },
  {
   "cell_type": "markdown",
   "metadata": {},
   "source": [
    "<p>https://www.rdocumentation.org/packages/GGally/versions/1.5.0/topics/ggpairs-  ggpairs</p>\n",
    "http://www.sthda.com/english/articles/38-regression-model-validation/157-cross-validation-essentials-in-r/#loading-required-r-packages- cross validation\n",
    "https://en.wikipedia.org/wiki/Stepwise_regression -stepwise regression\n",
    "https://www.rdocumentation.org/packages/caret/versions/4.47/topics/train - train"
   ]
  }
 ],
 "metadata": {
  "kernelspec": {
   "display_name": "R",
   "language": "R",
   "name": "ir"
  },
  "language_info": {
   "codemirror_mode": "r",
   "file_extension": ".r",
   "mimetype": "text/x-r-source",
   "name": "R",
   "pygments_lexer": "r",
   "version": "4.0.0"
  }
 },
 "nbformat": 4,
 "nbformat_minor": 2
}
