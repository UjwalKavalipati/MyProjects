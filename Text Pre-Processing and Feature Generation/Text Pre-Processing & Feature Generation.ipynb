{
 "cells": [
  {
   "cell_type": "markdown",
   "metadata": {},
   "source": [
    "# <u>Data Wrangling</u>\n",
    "#### Name: Ujwal Kavalipati\n",
    "\n",
    "\n",
    "\n",
    "Date: 18/12/2020\n",
    "\n",
    "Version: 1.2\n",
    "\n",
    "Environment: Python 3.7.3 and Anaconda 4.3.0 (64-bit) \n",
    "\n",
    "Libraries used:\n",
    "\n",
    "* **pandas 0.19.2** (to save the data into a csv file, included in Anaconda Python 3.6) \n",
    "* **re 2.2.1** (for regular expressions, included in Anaconda Python 3.6) \n",
    "* **requests** for downloading the pdf files from the links\n",
    "* **glob** to get the downloaded text files\n",
    "* **nltk** for tokenizing, removing stopwords, getting bigrams and calculating frequency distribution\n",
    "* **chain** from **itertools** to get the list of tokens\n",
    "\n",
    "\n",
    "# <u>Introduction</u>:\n",
    "\n",
    "## Text Pre-Processing & Feature Generation:\n",
    "\n",
    "- This assessment focuses on the next step of analyzing textual data, i.e., extracting data from non-structured format and converting the extracted data into a proper format suitable for a downstream modelling task. \n",
    "- In this assessment, we are required to write Python code to preprocess a set of published papers and convert them into numerical representations (which are suitable for input into NLP AI systems, recommender-systems, information-retrieval algorithms, etc.)"
   ]
  },
  {
   "cell_type": "markdown",
   "metadata": {},
   "source": [
    "## Step 0: Importing the necessary libraries:"
   ]
  },
  {
   "cell_type": "code",
   "execution_count": 1,
   "metadata": {},
   "outputs": [],
   "source": [
    "import re\n",
    "import requests\n",
    "import glob\n",
    "import nltk\n",
    "from nltk.tokenize import RegexpTokenizer\n",
    "from nltk.util import ngrams\n",
    "from nltk.probability import *\n",
    "from nltk.tokenize import MWETokenizer\n",
    "from itertools import chain\n",
    "from nltk.stem import PorterStemmer\n",
    "import nltk.data\n",
    "import pandas as pd"
   ]
  },
  {
   "cell_type": "markdown",
   "metadata": {},
   "source": [
    "## Step 1: Downloading and converting pdf to text file:\n",
    "The first step in our assignment was to download the Group172 file which is a pdf file from the google drive. Then we used the below command to convert that pdf file into text file. The pdf file consists of 200 links for 200 pdf documents.<br> \n",
    "`pdf2txt.py -o Group172.txt Group172.pdf`<br>\n",
    "\n",
    "This command converted Group172.pdf to Group172.txt"
   ]
  },
  {
   "cell_type": "code",
   "execution_count": 2,
   "metadata": {},
   "outputs": [],
   "source": [
    "#Opening the text file Group172.txt which contains all the files to be downloaded:\n",
    "\n",
    "pdftext=open('Group172.txt','r')"
   ]
  },
  {
   "cell_type": "markdown",
   "metadata": {},
   "source": [
    "## Step 2: Downloading 200 files programmatically:\n",
    "The next step is to read the converted `Group172.txt` file and download all the 200 files from the file in pdf format. For downloading the files, `request` package is used."
   ]
  },
  {
   "cell_type": "markdown",
   "metadata": {},
   "source": [
    "### Step 2.1:\n",
    "`Group172.txt` file consists of the filename and the url.\n",
    "The approach we followed was to separate the urls and the filenames and store them in a list and later use `requests` package to download the files programatically.<br>\n",
    "We have used `re.compile()` for constructing the regex pattern used for matching the file names and the urls.\n",
    "Unneccesary spaces and new line characters(`\\n`) are removed while extracting the filenames and the urls.\n",
    "`re.match()` is used for matching the compiled regex pattern with the each line of the file where filename are url are present."
   ]
  },
  {
   "cell_type": "code",
   "execution_count": 3,
   "metadata": {
    "scrolled": false
   },
   "outputs": [],
   "source": [
    "pdflist=[]                                                                # Creating the list to store all the pdf links\n",
    "pdftitle=[]\n",
    "pdftext.seek(0)\n",
    "reg=re.compile(\"(PP\\d{4})\\.pdf(.*)\")                                      # Compiling a regex for matching pdftitles starting with PP followed by 4 digits\n",
    "islink=False                                                              # Creating a boolean variable for extracting pdfs\n",
    "def clean(line):                                                          # Function for cleaning the file\n",
    "        line = line.strip('\\n')                                           # Remove leading and trailing '\\n' \n",
    "        line = line.strip()                                               # Remove leading and trailing while spaces\n",
    "        return line\n",
    "for line in pdftext:\n",
    "    line=clean(line)\n",
    "    if(line.startswith('filename') or line.startswith('url')):            # Setting the boolean value for lines starting with 'filename' or 'url'\n",
    "        islink=True\n",
    "    elif re.match(reg,line)!=None:                                        \n",
    "        link=(re.match(reg,line).group(2))                                # Matching with the url\n",
    "        title=(re.match(reg,line).group(1))                               # Matching the title\n",
    "        pdflist.append(link)                                              # Appending to the list of pdfs\n",
    "        pdftitle.append(title)                                            # Appending to the list of titles"
   ]
  },
  {
   "cell_type": "markdown",
   "metadata": {},
   "source": [
    "### Step 2.2:\n",
    "Using **requests** package to download the 200 files:"
   ]
  },
  {
   "cell_type": "code",
   "execution_count": 4,
   "metadata": {},
   "outputs": [
    {
     "data": {
      "text/plain": [
       "\"\\nfor i in range(len(pdflist)):                                      # Iterating through all the elements of pdflist\\n    r=requests.get(pdflist[i])                                     # To get the files in binary format\\n    str1=pdftitle[i]\\n    str1=str1+'.pdf'                                               # Appending .pdf to pdftitle for naming the downloaded pdf\\n    with open(str1,'wb') as file:\\n        file.write(r.content)    \""
      ]
     },
     "execution_count": 4,
     "metadata": {},
     "output_type": "execute_result"
    }
   ],
   "source": [
    "# Using this set of code to programmatically download all the pdf files from the links.pdflist consisting of all the urls:\n",
    "\"\"\"\n",
    "for i in range(len(pdflist)):                                      # Iterating through all the elements of pdflist\n",
    "    r=requests.get(pdflist[i])                                     # To get the files in binary format\n",
    "    str1=pdftitle[i]\n",
    "    str1=str1+'.pdf'                                               # Appending .pdf to pdftitle for naming the downloaded pdf\n",
    "    with open(str1,'wb') as file:\n",
    "        file.write(r.content)    \"\"\"                                  # Writing the content to the pdf file    "
   ]
  },
  {
   "attachments": {
    "Screenshot%20from%202019-09-12%2017-28-00.png": {
     "image/png": "[encoded data removed]"
    },
    "Screenshot%20from%202019-09-12%2017-29-10.png": {
     "image/png": "[encoded data removed]"
    }
   },
   "cell_type": "markdown",
   "metadata": {},
   "source": [
    "### Step 2.3: Converting 200 pdf files to text files:\n",
    "We have written a bash script to convert the pdf files into text files one by one in linux.<br>\n",
    "filenames is a file containing all the pdf files<br>\n",
    "![Screenshot%20from%202019-09-12%2017-28-00.png](attachment:Screenshot%20from%202019-09-12%2017-28-00.png)\n",
    "<br> The below script converted all the pdf files to text files:\n",
    "![Screenshot%20from%202019-09-12%2017-29-10.png](attachment:Screenshot%20from%202019-09-12%2017-29-10.png)\n",
    "\n"
   ]
  },
  {
   "cell_type": "markdown",
   "metadata": {},
   "source": [
    "# Step 3: Reading all the files and extracting the necessary attributes:\n",
    "\n",
    "- The attributes which we want to extract are `Titles`, `Authors`, `Abstracts` and `Paper Body`.\n",
    "\n",
    "### Step 3.1:\n",
    "- For this, the first step is to read all the converted text files and for each file extract the text required using regular expressions.\n",
    "- Here `re.sub` is used to substitute any `-` with a new line character `\\n`. `re.DOTALL` will make the '.' to match any character at all, including a newline; without this flag, '.' will match anything except a newline and we are using this since we have paragraphs(multiline sentences) to extract for Paper Bodies.\n",
    "- We are storing `Paper Bodies` in a dictionary as we want to calculate **sparse vectors** for the 200 files.\n"
   ]
  },
  {
   "cell_type": "code",
   "execution_count": 5,
   "metadata": {},
   "outputs": [],
   "source": [
    "# A list of all txt file in the current dir\n",
    "files = glob.glob(\"PP*.txt\")\n",
    "\n",
    "# the dictionary that will hold the file names (key) and content (value)\n",
    "dicFilenames = {}\n",
    "# Open the files:\n",
    "# The keys will hold the filenames and the values will hold the contents of each file\n",
    "for file in files:\n",
    "    with open(file, 'r', encoding='utf-8') as read:\n",
    "        # the key will hold the name the value the content\n",
    "        text=read.read()\n",
    "        text=re.sub(r\"-\\n\",'',text)\n",
    "        pBod=re.search('1 Paper Body(.*?)2 References',text,re.MULTILINE | re.DOTALL)\n",
    "        dicFilenames[file]=pBod.group(1)\n",
    "dicFiles = { k.replace('.txt', ''): v for k, v in dicFilenames.items() }"
   ]
  },
  {
   "cell_type": "markdown",
   "metadata": {},
   "source": [
    "### Step 3.2: Extracting the attributes:\n",
    "\n",
    "* The `Title` are present before the text `Authored by:`; so re.search with **`(.*?)`** is used to get everything before `Authored by:`.\n",
    "* `Author names` are between 'Authored by:' and 'Abstract', `Abstracts` are between 'Abstract' and '1 Paper Body' while `Paper Body` are to be extracted from '1 Paper Body' to '2 References' and the same regular expression is used to match the text."
   ]
  },
  {
   "cell_type": "code",
   "execution_count": 6,
   "metadata": {},
   "outputs": [],
   "source": [
    "title_list=[]                                                                     ## Creating list to hold titles\n",
    "author_list=[]                                                                    ## Creating list to hold authors\n",
    "abstract_list=[]                                                                  ## Creating list to hold abstracts\n",
    "\n",
    "for i in pdftitle:\n",
    "    fname=i+\".txt\"\n",
    "    fp=open(fname,'r',encoding=\"UTF8\")\n",
    "    lines=fp.read()\n",
    "    title=re.search('(.*?)Authored by:',lines,re.MULTILINE | re.DOTALL)\n",
    "    author=re.search('Authored by:(.*?)Abstract',lines,re.MULTILINE|re.DOTALL)\n",
    "    abstract=re.search('Abstract(.*?)1 Paper Body',lines,re.MULTILINE|re.DOTALL)\n",
    "    title_list.append(title.group(1))\n",
    "    author_list.append(author.group(1))\n",
    "    abstract_list.append(abstract.group(1)) \n"
   ]
  },
  {
   "cell_type": "markdown",
   "metadata": {},
   "source": [
    "## Step 4: Segmentation of paper body:\n",
    "\n",
    "* The first step is to segment them into sentences using `'tokenizers/punkt/english.pickle'` from `nltk`. \n",
    "* The next step is to change the first words of the sentences into lowercase and append the changed words back to the lists and also updating the dictionary values."
   ]
  },
  {
   "cell_type": "code",
   "execution_count": 7,
   "metadata": {},
   "outputs": [],
   "source": [
    "for (keys,text) in dicFiles.items():\n",
    "    sent_detector = nltk.data.load('tokenizers/punkt/english.pickle')\n",
    "    dicFiles[keys]=sent_detector.tokenize(text.strip())\n",
    "for (keys,text) in dicFiles.items():\n",
    "    list1=[]\n",
    "    for word in text:\n",
    "        fWord = re.findall(\"^[A-Za-z]+|\\.\\s+[a-zA-Z]+\",word)\n",
    "        for wrd in fWord:\n",
    "            newWrd=wrd.lower()\n",
    "            word=word.replace(wrd,newWrd)\n",
    "        list1.append(word)\n",
    "    dicFiles[keys]=list1"
   ]
  },
  {
   "cell_type": "markdown",
   "metadata": {},
   "source": [
    "## Step 5: Tokenization of paper body\n",
    "\n",
    "- Next step is tokenization of the segemented paper bodies. \n",
    "- **Tokenizing** raw text data is an important pre-processing step for many NLP methods. \n",
    "- As explained on wikipedia, tokenization is “the process of breaking a stream of text up into words, phrases, symbols, or other meaningful elements called tokens.”\n",
    "- We tokenize the data into individual words using `RegexpTokenizer(r\"[A-Za-z]\\w+(?:[-'?]\\w+)?\", gaps=False)`. Here, gaps=False is given to set the delimiter as to not match the words.\n",
    "\n",
    "\n",
    "### Removing Stop words\n",
    "[Stopwords](https://en.wikipedia.org/wiki/Stop_words) are words that are extremely common and carry little lexical content. For many NLP and text mining tasks, it is useful to remove stopwords in order to save storage space \n",
    "and speed up processing, and the process of removing these words is usually called “stopping”. Stopwords are provided in many different languages and for our assignment we are using stopwords from English language (`context-independent stopwords`) and storing them into a list."
   ]
  },
  {
   "cell_type": "code",
   "execution_count": 8,
   "metadata": {},
   "outputs": [],
   "source": [
    "# Tokenising the text, creating the stopwords list from given stopwords_en file and removing those stopwords from our tokens:\n",
    "\n",
    "from nltk.tokenize import RegexpTokenizer\n",
    "stopwords_list = []\n",
    "tokenizer = RegexpTokenizer(r\"[A-Za-z]\\w+(?:[-'?]\\w+)?\", gaps=False)\n",
    "with open('./stopwords_en.txt') as f:\n",
    "    stopwords_list = f.read().splitlines()\n",
    "for (keys,text) in dicFiles.items():\n",
    "    list_tokens=[]\n",
    "    for gline in text:\n",
    "        tokens = tokenizer.tokenize(gline)\n",
    "        filtered_tokens = [token for token in tokens if token.lower() not in stopwords_list]\n",
    "        vocab_tokens = [token for token in filtered_tokens if len(token)>=3]\n",
    "        list_tokens.append(vocab_tokens)\n",
    "    dicFiles[keys]=list_tokens"
   ]
  },
  {
   "cell_type": "code",
   "execution_count": 9,
   "metadata": {},
   "outputs": [],
   "source": [
    "## Updating the dictionary with lists of tokens:\n",
    "\n",
    "for key,value in dicFiles.items():\n",
    "    value=[item for sublist in value for item in sublist]\n",
    "    dicFiles[key]=value"
   ]
  },
  {
   "cell_type": "markdown",
   "metadata": {},
   "source": [
    "## Step 6: Creating bigrams:\n",
    "\n",
    "- N-grams of texts are extensively used in various text analysis tasks.\n",
    "- They are basically contiguous sequences of **`n`** words from a given sequence of text.\n",
    "- When computing the n-grams we typically move a fixed size window of size n words forward.\n",
    "- Extracting from a text a list of n-gram can be easily accomplished with function `ngrams()` and for bigrams we use *n=2*.\n",
    "- To get the most frequent bigrams, we first use `FreqDist()` function from `nltk.probability` to calculate how many times a bigram is appearing in the whole text and then use `most_common()` to get the top most frequent bigrams."
   ]
  },
  {
   "cell_type": "code",
   "execution_count": 10,
   "metadata": {},
   "outputs": [
    {
     "data": {
      "text/plain": [
       "396455"
      ]
     },
     "execution_count": 10,
     "metadata": {},
     "output_type": "execute_result"
    }
   ],
   "source": [
    "## Getting all the tokens for all the files into 1 list:\n",
    "\n",
    "all_tokens = [] \n",
    "items = dicFiles.items() \n",
    "for item in items: \n",
    "    all_tokens.append(item[1]) \n",
    "all_tokens1=[item for sublist in all_tokens for item in sublist]         ## Flattening the list of lists\n",
    "len(all_tokens1) "
   ]
  },
  {
   "cell_type": "code",
   "execution_count": 11,
   "metadata": {},
   "outputs": [],
   "source": [
    "bigrams = ngrams(all_tokens1, n = 2)\n",
    "fdbigram = FreqDist(bigrams)\n",
    "fdbig=fdbigram.most_common(250)"
   ]
  },
  {
   "cell_type": "markdown",
   "metadata": {},
   "source": [
    "#### Finding 200 top most frequent and meaningful bigrams:\n",
    "\n",
    "- For this purpose, we filter out those words which make less sense like (log,log), (min,min) or (min,max) etc and get 200 most frequent bigrams"
   ]
  },
  {
   "cell_type": "code",
   "execution_count": 12,
   "metadata": {},
   "outputs": [
    {
     "data": {
      "text/plain": [
       "[(('lower', 'bound'), 210),\n",
       " (('training', 'set'), 187),\n",
       " (('optimization', 'problem'), 178),\n",
       " (('loss', 'function'), 174),\n",
       " (('machine', 'learning'), 167),\n",
       " (('upper', 'bound'), 161),\n",
       " (('objective', 'function'), 157),\n",
       " (('gradient', 'descent'), 154),\n",
       " (('supplementary', 'material'), 153),\n",
       " (('data', 'points'), 133),\n",
       " (('strongly', 'convex'), 131),\n",
       " (('training', 'data'), 122),\n",
       " (('high', 'probability'), 117),\n",
       " (('state-of', 'the-art'), 111),\n",
       " (('optimal', 'solution'), 111),\n",
       " (('learning', 'algorithm'), 108),\n",
       " (('ground', 'truth'), 106),\n",
       " (('lower', 'bounds'), 103),\n",
       " (('sample', 'complexity'), 103),\n",
       " (('neural', 'networks'), 99),\n",
       " (('learning', 'algorithms'), 99),\n",
       " (('sample', 'size'), 99),\n",
       " (('special', 'case'), 98),\n",
       " (('Monte', 'Carlo'), 95),\n",
       " (('step', 'size'), 95),\n",
       " (('figure', 'shows'), 94),\n",
       " (('future', 'work'), 93),\n",
       " (('random', 'variable'), 92),\n",
       " (('neural', 'network'), 91),\n",
       " (('running', 'time'), 91),\n",
       " (('random', 'variables'), 91),\n",
       " (('stochastic', 'gradient'), 90),\n",
       " (('convergence', 'rate'), 90),\n",
       " (('covariance', 'matrix'), 83),\n",
       " (('number', 'iterations'), 82),\n",
       " (('loss', 'functions'), 81),\n",
       " (('computational', 'complexity'), 79),\n",
       " (('shown', 'Figure'), 78),\n",
       " (('basis', 'functions'), 77),\n",
       " (('logistic', 'regression'), 76),\n",
       " (('data', 'set'), 75),\n",
       " (('Conference', 'Neural'), 73),\n",
       " (('Processing', 'Systems'), 73),\n",
       " (('Systems', 'NIPS'), 73),\n",
       " (('large', 'number'), 73),\n",
       " (('regret', 'bound'), 73),\n",
       " (('probability', 'distribution'), 72),\n",
       " (('maximum', 'likelihood'), 72),\n",
       " (('data', 'sets'), 71),\n",
       " (('Neural', 'Information'), 69),\n",
       " (('Information', 'Processing'), 69),\n",
       " (('small', 'number'), 69),\n",
       " (('model', 'selection'), 69),\n",
       " (('posterior', 'distribution'), 69),\n",
       " (('learning', 'rate'), 66),\n",
       " (('number', 'samples'), 66),\n",
       " (('metric', 'learning'), 65),\n",
       " (('test', 'set'), 64),\n",
       " (('total', 'number'), 64),\n",
       " (('convex', 'optimization'), 62),\n",
       " (('joint', 'distribution'), 62),\n",
       " (('latent', 'variables'), 60),\n",
       " (('active', 'learning'), 60),\n",
       " (('online', 'learning'), 60),\n",
       " (('learning', 'problem'), 58),\n",
       " (('regularization', 'parameter'), 58),\n",
       " (('proof', 'Theorem'), 57),\n",
       " (('uniformly', 'random'), 57),\n",
       " (('optimization', 'problems'), 57),\n",
       " (('sparse', 'coding'), 56),\n",
       " (('reinforcement', 'learning'), 55),\n",
       " (('recent', 'work'), 55),\n",
       " (('Gibbs', 'sampling'), 55),\n",
       " (('expected', 'reward'), 55),\n",
       " (('supervised', 'learning'), 54),\n",
       " (('eigenvalue', 'decay'), 54),\n",
       " (('closed', 'form'), 54),\n",
       " (('density', 'estimation'), 54),\n",
       " (('distributionally', 'robust'), 54),\n",
       " (('linear', 'regression'), 53),\n",
       " (('convex', 'function'), 53),\n",
       " (('uniform', 'convergence'), 53),\n",
       " (('shown', 'Fig'), 53),\n",
       " (('linear', 'inverse'), 53),\n",
       " (('learning', 'methods'), 52),\n",
       " (('model', 'parameters'), 52),\n",
       " (('condition', 'number'), 51),\n",
       " (('computer', 'vision'), 51),\n",
       " (('singular', 'values'), 51),\n",
       " (('polynomial', 'time'), 51),\n",
       " (('Radon', 'machine'), 51),\n",
       " (('standard', 'deviation'), 50),\n",
       " (('synthetic', 'data'), 50),\n",
       " (('variational', 'inference'), 50),\n",
       " (('regret', 'bounds'), 50),\n",
       " (('data', 'point'), 49),\n",
       " (('experimental', 'results'), 49),\n",
       " (('generative', 'model'), 49),\n",
       " (('upper', 'bounds'), 48),\n",
       " (('feature', 'map'), 48),\n",
       " (('function', 'deﬁned'), 48),\n",
       " (('training', 'examples'), 48),\n",
       " (('fused', 'lasso'), 48),\n",
       " (('denote', 'set'), 48),\n",
       " (('graphical', 'models'), 48),\n",
       " (('dueling', 'bandits'), 48),\n",
       " (('Markov', 'chain'), 47),\n",
       " (('state', 'space'), 47),\n",
       " (('reward', 'function'), 47),\n",
       " (('kernel', 'matrix'), 46),\n",
       " (('real', 'data'), 46),\n",
       " (('randomized', 'trees'), 46),\n",
       " (('Related', 'Work'), 45),\n",
       " (('computational', 'cost'), 45),\n",
       " (('empirical', 'risk'), 45),\n",
       " (('greedy', 'algorithm'), 45),\n",
       " (('search', 'space'), 45),\n",
       " (('NIPS', 'Long'), 44),\n",
       " (('Long', 'Beach'), 44),\n",
       " (('Beach', 'USA'), 44),\n",
       " (('Gaussian', 'distribution'), 44),\n",
       " (('uniform', 'distribution'), 44),\n",
       " (('Gaussian', 'noise'), 44),\n",
       " (('transition', 'matrix'), 44),\n",
       " (('time', 'complexity'), 44),\n",
       " (('error', 'rate'), 44),\n",
       " (('spatial', 'transformer'), 44),\n",
       " (('time', 'step'), 43),\n",
       " (('semi-supervised', 'learning'), 43),\n",
       " (('results', 'show'), 43),\n",
       " (('concave', 'distributions'), 43),\n",
       " (('Sample', 'Size'), 43),\n",
       " (('DISCO', 'Nets'), 43),\n",
       " (('feature', 'vectors'), 42),\n",
       " (('kernel', 'methods'), 42),\n",
       " (('binary', 'classiﬁcation'), 42),\n",
       " (('worst', 'case'), 42),\n",
       " (('linear', 'programming'), 42),\n",
       " (('discriminant', 'saliency'), 42),\n",
       " (('work', 'supported'), 41),\n",
       " (('observed', 'data'), 41),\n",
       " (('main', 'result'), 41),\n",
       " (('proposed', 'algorithm'), 41),\n",
       " (('convex', 'functions'), 41),\n",
       " (('precision', 'recall'), 41),\n",
       " (('optimal', 'policy'), 41),\n",
       " (('linear', 'convergence'), 41),\n",
       " (('missing', 'data'), 41),\n",
       " (('previous', 'section'), 40),\n",
       " (('diﬀerent', 'values'), 40),\n",
       " (('loss', 'generality'), 40),\n",
       " (('number', 'times'), 40),\n",
       " (('matrix', 'factorization'), 40),\n",
       " (('domain', 'adaptation'), 40),\n",
       " (('deep', 'learning'), 39),\n",
       " (('diagonal', 'matrix'), 39),\n",
       " (('optimal', 'design'), 39),\n",
       " (('suﬃciently', 'large'), 39),\n",
       " (('related', 'work'), 39),\n",
       " (('policy', 'space'), 39),\n",
       " (('epistemic', 'uncertainty'), 39),\n",
       " (('natural', 'language'), 38),\n",
       " (('error', 'bound'), 38),\n",
       " (('results', 'shown'), 38),\n",
       " (('section', 'show'), 38),\n",
       " (('image', 'patches'), 38),\n",
       " (('predictive', 'uncertainty'), 38),\n",
       " (('proposed', 'method'), 37),\n",
       " (('parameter', 'vector'), 37),\n",
       " (('input', 'space'), 37),\n",
       " (('singular', 'vectors'), 37),\n",
       " (('inference', 'problem'), 37),\n",
       " (('feature', 'vector'), 36),\n",
       " (('training', 'samples'), 36),\n",
       " (('hidden', 'units'), 36),\n",
       " (('hidden', 'states'), 36),\n",
       " (('kernel', 'function'), 36),\n",
       " (('computation', 'time'), 36),\n",
       " (('problem', 'min'), 36),\n",
       " (('tensor', 'decomposition'), 36),\n",
       " (('prior', 'distribution'), 35),\n",
       " (('squared', 'error'), 35),\n",
       " (('positive', 'deﬁnite'), 35),\n",
       " (('approximate', 'inference'), 35),\n",
       " (('orders', 'magnitude'), 35),\n",
       " (('edit', 'distance'), 35),\n",
       " (('proxy', 'discrimination'), 35),\n",
       " (('penalty', 'parameter'), 35),\n",
       " (('labeled', 'data'), 34),\n",
       " (('regression', 'model'), 34),\n",
       " (('identity', 'matrix'), 34),\n",
       " (('closely', 'related'), 34),\n",
       " (('importance', 'sampling'), 34),\n",
       " (('feature', 'learning'), 34),\n",
       " (('approval', 'voting'), 34),\n",
       " (('estimation', 'error'), 33),\n",
       " (('proof', 'theorem'), 33),\n",
       " (('feature', 'space'), 33),\n",
       " (('theoretical', 'analysis'), 33),\n",
       " (('partition', 'function'), 33)]"
      ]
     },
     "execution_count": 12,
     "metadata": {},
     "output_type": "execute_result"
    }
   ],
   "source": [
    "my_bigrams=[]\n",
    "for i in range(len(fdbig)):\n",
    "    if len(fdbig[i][0][0])>3:\n",
    "        my_bigrams.append(fdbig[i])\n",
    "\n",
    "        \n",
    "my_bigrams=my_bigrams[0:200]  \n",
    "my_bigrams"
   ]
  },
  {
   "cell_type": "code",
   "execution_count": 13,
   "metadata": {},
   "outputs": [
    {
     "name": "stdout",
     "output_type": "stream",
     "text": [
      "25538\n"
     ]
    }
   ],
   "source": [
    "## Counting the unique tokens in the files. For this we use set() on the list which contains all the tokens:\n",
    "\n",
    "uni_voc = list(set(all_tokens1))\n",
    "print (len(uni_voc))"
   ]
  },
  {
   "cell_type": "code",
   "execution_count": 14,
   "metadata": {},
   "outputs": [],
   "source": [
    "## Appending the top 200 bigrams to the list of unigrams:\n",
    "\n",
    "for i in range(len(my_bigrams)):\n",
    "    uni_voc.append(my_bigrams[i][0])"
   ]
  },
  {
   "cell_type": "markdown",
   "metadata": {},
   "source": [
    "#### MWETokenizer:\n",
    "\n",
    "- A tokenizer that processes tokenized text and merges multi-word expressions into single tokens and then updating the dictionary with those tokens"
   ]
  },
  {
   "cell_type": "code",
   "execution_count": 15,
   "metadata": {},
   "outputs": [],
   "source": [
    "from nltk.tokenize import MWETokenizer\n",
    "latest_tokens=[]\n",
    "\n",
    "def mwtok(value):\n",
    "    mwe_tokenizer = MWETokenizer(uni_voc,separator='__')\n",
    "    latest_tokens = mwe_tokenizer.tokenize(value)\n",
    "    return latest_tokens\n",
    "\n",
    "for key,value in dicFiles.items():\n",
    "    dicFiles[key]=mwtok(value)"
   ]
  },
  {
   "cell_type": "markdown",
   "metadata": {},
   "source": [
    "## Step 7: Document Frequency:\n",
    "\n",
    "Here we are going to count how many documents a word appears in, which is referred to as document frequency.\n",
    "\n",
    "We can use  <font color=\"blue\">FreqDist()</font> jointly with  <font color=\"blue\">set()</font> as follows:\n",
    "1. Apply  <font color=\"blue\">set()</font> to each dictionary value to generate a set of unique words in the article and save all sets in a list\n",
    "\n",
    "2. We put all the words in a list using  <font color=\"blue\">chain.from_iterable</font> and pass\n",
    "it to  <font color=\"blue\">FreqDist</font>.\n",
    "\n",
    "The first step makes sure that each word in an article appears only once, thus the total number of \n",
    "times a word appears in all the sets is equal to the number of documents containing that word."
   ]
  },
  {
   "cell_type": "code",
   "execution_count": 16,
   "metadata": {},
   "outputs": [],
   "source": [
    "## Calculating the document frequency:\n",
    "\n",
    "words_2 = list(chain.from_iterable([set(value) for value in dicFiles.values()]))\n",
    "fd_2 = FreqDist(words_2)\n",
    "mst_common = fd_2.most_common()"
   ]
  },
  {
   "cell_type": "markdown",
   "metadata": {},
   "source": [
    "#### Removing context-dependent stopwords and rare tokens:\n",
    "\n",
    "- Context-dependent stopwords with threshold of **95%** of 200 files i.e. if a word appears in more than or equal to **190** documents.\n",
    "- Rare tokens with threshold of **3%** of 200 files i.e. if a word appears in less than or equal to **6** documents."
   ]
  },
  {
   "cell_type": "code",
   "execution_count": 17,
   "metadata": {},
   "outputs": [],
   "source": [
    "reduced_tokens=[]\n",
    "super_tokens=[]\n",
    "for i in range(len(mst_common)):\n",
    "    if (mst_common[i][1])<=6 or (mst_common[i][1]>=190):\n",
    "        reduced_tokens.append(mst_common[i][0])\n",
    "    elif(mst_common[i][1]>6 and mst_common[i][1]<190):\n",
    "        super_tokens.append(mst_common[i][0])"
   ]
  },
  {
   "cell_type": "code",
   "execution_count": 18,
   "metadata": {},
   "outputs": [
    {
     "data": {
      "text/plain": [
       "['lower__bound',\n",
       " 'training__set',\n",
       " 'optimization__problem',\n",
       " 'loss__function',\n",
       " 'machine__learning',\n",
       " 'upper__bound',\n",
       " 'objective__function',\n",
       " 'gradient__descent',\n",
       " 'supplementary__material',\n",
       " 'data__points',\n",
       " 'strongly__convex',\n",
       " 'training__data',\n",
       " 'high__probability',\n",
       " 'state-of__the-art',\n",
       " 'optimal__solution',\n",
       " 'learning__algorithm',\n",
       " 'ground__truth',\n",
       " 'lower__bounds',\n",
       " 'sample__complexity',\n",
       " 'neural__networks',\n",
       " 'learning__algorithms',\n",
       " 'sample__size',\n",
       " 'special__case',\n",
       " 'Monte__Carlo',\n",
       " 'step__size',\n",
       " 'figure__shows',\n",
       " 'future__work',\n",
       " 'random__variable',\n",
       " 'neural__network',\n",
       " 'running__time',\n",
       " 'random__variables',\n",
       " 'stochastic__gradient',\n",
       " 'convergence__rate',\n",
       " 'covariance__matrix',\n",
       " 'number__iterations',\n",
       " 'loss__functions',\n",
       " 'computational__complexity',\n",
       " 'shown__Figure',\n",
       " 'basis__functions',\n",
       " 'logistic__regression',\n",
       " 'data__set',\n",
       " 'Conference__Neural',\n",
       " 'Processing__Systems',\n",
       " 'Systems__NIPS',\n",
       " 'large__number',\n",
       " 'regret__bound',\n",
       " 'probability__distribution',\n",
       " 'maximum__likelihood',\n",
       " 'data__sets',\n",
       " 'Neural__Information',\n",
       " 'Information__Processing',\n",
       " 'small__number',\n",
       " 'model__selection',\n",
       " 'posterior__distribution',\n",
       " 'learning__rate',\n",
       " 'number__samples',\n",
       " 'metric__learning',\n",
       " 'test__set',\n",
       " 'total__number',\n",
       " 'convex__optimization',\n",
       " 'joint__distribution',\n",
       " 'latent__variables',\n",
       " 'active__learning',\n",
       " 'online__learning',\n",
       " 'learning__problem',\n",
       " 'regularization__parameter',\n",
       " 'proof__Theorem',\n",
       " 'uniformly__random',\n",
       " 'optimization__problems',\n",
       " 'sparse__coding',\n",
       " 'reinforcement__learning',\n",
       " 'recent__work',\n",
       " 'Gibbs__sampling',\n",
       " 'expected__reward',\n",
       " 'supervised__learning',\n",
       " 'eigenvalue__decay',\n",
       " 'closed__form',\n",
       " 'density__estimation',\n",
       " 'distributionally__robust',\n",
       " 'linear__regression',\n",
       " 'convex__function',\n",
       " 'uniform__convergence',\n",
       " 'shown__Fig',\n",
       " 'linear__inverse',\n",
       " 'learning__methods',\n",
       " 'model__parameters',\n",
       " 'condition__number',\n",
       " 'computer__vision',\n",
       " 'singular__values',\n",
       " 'polynomial__time',\n",
       " 'Radon__machine',\n",
       " 'standard__deviation',\n",
       " 'synthetic__data',\n",
       " 'variational__inference',\n",
       " 'regret__bounds',\n",
       " 'data__point',\n",
       " 'experimental__results',\n",
       " 'generative__model',\n",
       " 'upper__bounds',\n",
       " 'feature__map',\n",
       " 'function__deﬁned',\n",
       " 'training__examples',\n",
       " 'fused__lasso',\n",
       " 'denote__set',\n",
       " 'graphical__models',\n",
       " 'dueling__bandits',\n",
       " 'Markov__chain',\n",
       " 'state__space',\n",
       " 'reward__function',\n",
       " 'kernel__matrix',\n",
       " 'real__data',\n",
       " 'randomized__trees',\n",
       " 'Related__Work',\n",
       " 'computational__cost',\n",
       " 'empirical__risk',\n",
       " 'greedy__algorithm',\n",
       " 'search__space',\n",
       " 'NIPS__Long',\n",
       " 'Long__Beach',\n",
       " 'Beach__USA',\n",
       " 'Gaussian__distribution',\n",
       " 'uniform__distribution',\n",
       " 'Gaussian__noise',\n",
       " 'transition__matrix',\n",
       " 'time__complexity',\n",
       " 'error__rate',\n",
       " 'spatial__transformer',\n",
       " 'time__step',\n",
       " 'semi-supervised__learning',\n",
       " 'results__show',\n",
       " 'concave__distributions',\n",
       " 'Sample__Size',\n",
       " 'DISCO__Nets',\n",
       " 'feature__vectors',\n",
       " 'kernel__methods',\n",
       " 'binary__classiﬁcation',\n",
       " 'worst__case',\n",
       " 'linear__programming',\n",
       " 'discriminant__saliency',\n",
       " 'work__supported',\n",
       " 'observed__data',\n",
       " 'main__result',\n",
       " 'proposed__algorithm',\n",
       " 'convex__functions',\n",
       " 'precision__recall',\n",
       " 'optimal__policy',\n",
       " 'linear__convergence',\n",
       " 'missing__data',\n",
       " 'previous__section',\n",
       " 'diﬀerent__values',\n",
       " 'loss__generality',\n",
       " 'number__times',\n",
       " 'matrix__factorization',\n",
       " 'domain__adaptation',\n",
       " 'deep__learning',\n",
       " 'diagonal__matrix',\n",
       " 'optimal__design',\n",
       " 'suﬃciently__large',\n",
       " 'related__work',\n",
       " 'policy__space',\n",
       " 'epistemic__uncertainty',\n",
       " 'natural__language',\n",
       " 'error__bound',\n",
       " 'results__shown',\n",
       " 'section__show',\n",
       " 'image__patches',\n",
       " 'predictive__uncertainty',\n",
       " 'proposed__method',\n",
       " 'parameter__vector',\n",
       " 'input__space',\n",
       " 'singular__vectors',\n",
       " 'inference__problem',\n",
       " 'feature__vector',\n",
       " 'training__samples',\n",
       " 'hidden__units',\n",
       " 'hidden__states',\n",
       " 'kernel__function',\n",
       " 'computation__time',\n",
       " 'problem__min',\n",
       " 'tensor__decomposition',\n",
       " 'prior__distribution',\n",
       " 'squared__error',\n",
       " 'positive__deﬁnite',\n",
       " 'approximate__inference',\n",
       " 'orders__magnitude',\n",
       " 'edit__distance',\n",
       " 'proxy__discrimination',\n",
       " 'penalty__parameter',\n",
       " 'labeled__data',\n",
       " 'regression__model',\n",
       " 'identity__matrix',\n",
       " 'closely__related',\n",
       " 'importance__sampling',\n",
       " 'feature__learning',\n",
       " 'approval__voting',\n",
       " 'estimation__error',\n",
       " 'proof__theorem',\n",
       " 'feature__space',\n",
       " 'theoretical__analysis',\n",
       " 'partition__function']"
      ]
     },
     "execution_count": 18,
     "metadata": {},
     "output_type": "execute_result"
    }
   ],
   "source": [
    "## Appending the separator '__' between the words for bigrams:\n",
    "\n",
    "mybigram=[]\n",
    "for i in range(len(my_bigrams)):\n",
    "    term1=my_bigrams[i][0][0]\n",
    "    term2=my_bigrams[i][0][1]\n",
    "    term3=term1+\"__\"+term2\n",
    "    mybigram.append(term3)\n",
    "mybigram"
   ]
  },
  {
   "cell_type": "markdown",
   "metadata": {},
   "source": [
    "These are the **200** top most frequent bigrams"
   ]
  },
  {
   "cell_type": "markdown",
   "metadata": {},
   "source": [
    "## Step 8: Stemming\n",
    "\n",
    "- Grouping different forms of words together and working in terms of their base form is usually known as **stemming** or **lemmatization**.\n",
    "- Typically the stemming process includes the identification and removal of prefixes, suffixes, and pluralisation, and leaves you with a stem.\n",
    "- Here we are going to use ***Porter Stemmer*** to convert different forms of words into their root words."
   ]
  },
  {
   "cell_type": "code",
   "execution_count": 19,
   "metadata": {},
   "outputs": [],
   "source": [
    "stemmer = PorterStemmer()\n",
    "def wordStem(sup):\n",
    "    ret_list=[]\n",
    "    for word in sup:\n",
    "        if word not in mybigram and word.isupper()==False:\n",
    "            word=stemmer.stem(word)\n",
    "            ret_list.append(word)\n",
    "        else:\n",
    "            ret_list.append(word)\n",
    "    return ret_list"
   ]
  },
  {
   "cell_type": "code",
   "execution_count": 20,
   "metadata": {},
   "outputs": [
    {
     "data": {
      "text/plain": [
       "2130"
      ]
     },
     "execution_count": 20,
     "metadata": {},
     "output_type": "execute_result"
    }
   ],
   "source": [
    "## Sorting the tokens alphabetically\n",
    "\n",
    "stemmed_token=wordStem(super_tokens)\n",
    "new_vocab=set(stemmed_token)\n",
    "new_vocab=sorted(new_vocab)\n",
    "len(new_vocab)"
   ]
  },
  {
   "cell_type": "code",
   "execution_count": 21,
   "metadata": {},
   "outputs": [],
   "source": [
    "# Stemming on the dicFiles:\n",
    "\n",
    "for key,value in dicFiles.items():\n",
    "    list2=wordStem(value)\n",
    "    dicFiles[key]=list2"
   ]
  },
  {
   "cell_type": "markdown",
   "metadata": {},
   "source": [
    "### Note:\n",
    "\n",
    "There are some words like **algorithm** and **algorithms** which are not stemmed to their stem word wherein algorithms should have been stemmed to algorithm. Hence both of these words will appear in the **172_vocab.txt**. There could be many more words like this."
   ]
  },
  {
   "cell_type": "markdown",
   "metadata": {},
   "source": [
    "## Step 9:\n",
    "\n",
    "- This step consists of creating a text file **172_vocab.txt** with the sorted tokens along with a unique index.\n",
    "- Another file **172_count_vectors.txt** which includes the filename along with the word position in the **172_vocab.txt** and the number of times it appears in the document is to be created."
   ]
  },
  {
   "cell_type": "code",
   "execution_count": 22,
   "metadata": {},
   "outputs": [],
   "source": [
    "## Creating vocab.txt:\n",
    "\n",
    "outFile = open(\"./172_vocab.txt\", 'w',encoding=\"UTF8\")\n",
    "allcaps=[]\n",
    "uplist=[]\n",
    "lowerlist=[]\n",
    "for i in new_vocab:\n",
    "    if i.isupper()==True:\n",
    "        uplist.append(i)\n",
    "    elif re.search('[A-Z]+',i)!=None:\n",
    "        allcaps.append(i)\n",
    "    else:\n",
    "        lowerlist.append(i)\n",
    "                                \n",
    "vocab = sorted(uplist)+sorted(allcaps)+sorted(lowerlist)\n",
    "vocab_dict = {}\n",
    "i = 0\n",
    "for w in vocab:\n",
    "    vocab_dict[w] = i\n",
    "    outFile.write(\"{}:{}\".format(w,i))\n",
    "    outFile.write('\\n')\n",
    "    #print(\"{}:{}\").format(w,i)\n",
    "    i=i+1\n",
    "outFile.close()"
   ]
  },
  {
   "cell_type": "code",
   "execution_count": 23,
   "metadata": {},
   "outputs": [],
   "source": [
    "out_file = open(\"./172_count_vectors.txt\", 'w',encoding=\"UTF8\")\n",
    "for ke,d in dicFiles.items():\n",
    "    d_idx = []\n",
    "    for w in d:\n",
    "        if w in vocab:\n",
    "            d_idx.append(vocab_dict[w])\n",
    "    out_file.write(ke+',')\n",
    "    i=0\n",
    "    for k, v in FreqDist(d_idx).items():\n",
    "        \n",
    "        \n",
    "        if list(FreqDist(d_idx).keys())[-1] !=k:\n",
    "            out_file.write(\"{}:{},\".format(k,v))\n",
    "        else:\n",
    "            out_file.write(\"{}:{}\".format(k,v))\n",
    "        i+=1\n",
    "    out_file.write('\\n')\n",
    "out_file.close()\n",
    "            "
   ]
  },
  {
   "cell_type": "markdown",
   "metadata": {},
   "source": [
    "# Statistics Generation:\n",
    "\n",
    "In this task, top 10 `Abstracts`, `Titles` and `Authors` are to be found from the 200 documents. \n",
    "* All the extracted data is in the respective lists and the first step is to segment them into sentences using `'tokenizers/punkt/english.pickle'` from `nltk`. Segmentation is not performed for Authors as we have to preserve the first name and last name of the authors\n",
    "* The next step is to change the first words of the sentences into lowercase and append the changed words back to the lists.\n"
   ]
  },
  {
   "cell_type": "code",
   "execution_count": 24,
   "metadata": {},
   "outputs": [],
   "source": [
    "#This set of code is used for segmenting abstracts and converting them to lowercase when tokens come in the line:\n",
    "\n",
    "abstracts=[]\n",
    "\n",
    "for i in abstract_list:\n",
    "    i=re.sub(r\"-\\n\",'',i)\n",
    "    sent_detector = nltk.data.load('tokenizers/punkt/english.pickle')\n",
    "    seg=sent_detector.tokenize(i.strip())\n",
    "    for j in seg:\n",
    "        first=re.findall(\"^[A-Za-z]+|\\.\\s+[a-zA-Z]+\",j)\n",
    "        for k in first:\n",
    "            m=k.lower()\n",
    "            i=i.replace(k,m)\n",
    "    abstracts.append(i)"
   ]
  },
  {
   "cell_type": "markdown",
   "metadata": {},
   "source": [
    "* Now we tokenize the data into individual tokens using `RegexpTokenizer(r\"[A-Za-z]\\w+(?:[-'?]\\w+)?\", gaps=False)`. Here, gaps=False is given to set the delimiter as to not match the words. We are doing tokenisation for title_list and abstract and storing them into two lists."
   ]
  },
  {
   "cell_type": "code",
   "execution_count": 25,
   "metadata": {},
   "outputs": [],
   "source": [
    "# Converting titles and abstracts into tokens:\n",
    "\n",
    "token_title=[]\n",
    "abstract_list=[]\n",
    "\n",
    "tokenizer = RegexpTokenizer(r\"[A-Za-z]\\w+(?:[-'?]\\w+)?\", gaps=False)\n",
    "\n",
    "for i in title_list:\n",
    "    \n",
    "    tokens = tokenizer.tokenize(i)\n",
    "    token_title.append(tokens)\n",
    "for i in abstracts:\n",
    "    tokens = tokenizer.tokenize(i)\n",
    "    abstract_list.append(tokens)\n",
    "    "
   ]
  },
  {
   "cell_type": "markdown",
   "metadata": {},
   "source": [
    "* To get all the `Authors` in the line, we use re.findall with the pattern `[A-Za-z].+`. We have flattened the authors list and applied FreqDist() function to know the count of each author and took the top 10 authors from that and later sort them alphabetically based on count."
   ]
  },
  {
   "cell_type": "code",
   "execution_count": 26,
   "metadata": {},
   "outputs": [
    {
     "data": {
      "text/plain": [
       "[('Ambuj Tewari', 3),\n",
       " ('Andrew Zisserman', 3),\n",
       " ('Csaba Szepesvari', 3),\n",
       " ('Elad Hazan', 3),\n",
       " ('John Langford', 3),\n",
       " ('Nuno Vasconcelos', 3),\n",
       " ('Inderjit S. Dhillon', 2),\n",
       " ('Peter L. Bartlett', 2),\n",
       " ('Prateek Jain', 2),\n",
       " ('Vijay Mahadevan', 2)]"
      ]
     },
     "execution_count": 26,
     "metadata": {},
     "output_type": "execute_result"
    }
   ],
   "source": [
    "authors=[]\n",
    "for i in author_list:\n",
    "    name=re.findall('[A-Za-z].+',i)\n",
    "    authors.append(name)\n",
    "    \n",
    "#Flattening the list of lists to a single list:\n",
    "\n",
    "authors= [item for sublist in authors for item in sublist]\n",
    "fd_2 = FreqDist(authors)\n",
    "fd2=fd_2.most_common(10)\n",
    "fd2=(sorted(fd2, key = lambda i: (-i[1], i[0])))                          #sorting the list fd2\n",
    "fd2"
   ]
  },
  {
   "cell_type": "markdown",
   "metadata": {},
   "source": [
    "### Removing Stop words\n",
    "Stopwords are provided in many different languages and for our assignment we are using stopwords from English language (`context-independent stopwords`) and storing them into a list."
   ]
  },
  {
   "cell_type": "code",
   "execution_count": 27,
   "metadata": {},
   "outputs": [],
   "source": [
    "# Flattening the list of lists to a single list:\n",
    "\n",
    "token_title= [item for sublist in token_title for item in sublist]\n",
    "abstract_list=[item for sublist in abstract_list for item in sublist]"
   ]
  },
  {
   "cell_type": "markdown",
   "metadata": {},
   "source": [
    "- Remove the stopwords from titles and abstracts and store the filtered tokens in `filtered_token_titles` and `filtered_abstract_tokens` respectively."
   ]
  },
  {
   "cell_type": "code",
   "execution_count": 28,
   "metadata": {},
   "outputs": [],
   "source": [
    "## Removing context independent stopwords:\n",
    "\n",
    "filtered_token_titles = []\n",
    "filtered_abstract_tokens=[]\n",
    "for word in token_title:\n",
    "    if word not in stopwords_list:\n",
    "        filtered_token_titles.append(word.lower())\n",
    "for word in abstract_list:\n",
    "    if word not in stopwords_list:\n",
    "        filtered_abstract_tokens.append(word)\n"
   ]
  },
  {
   "cell_type": "markdown",
   "metadata": {},
   "source": [
    "- Calculate the top 10 most common terms in titles in the 200 documents:We have used FreqDist() function and most_common function to get the most common terms in token titles."
   ]
  },
  {
   "cell_type": "code",
   "execution_count": 29,
   "metadata": {},
   "outputs": [
    {
     "data": {
      "text/plain": [
       "[('learning', 47),\n",
       " ('inference', 14),\n",
       " ('networks', 12),\n",
       " ('bayesian', 12),\n",
       " ('models', 11),\n",
       " ('optimization', 11),\n",
       " ('stochastic', 10),\n",
       " ('approach', 9),\n",
       " ('data', 9),\n",
       " ('robust', 8)]"
      ]
     },
     "execution_count": 29,
     "metadata": {},
     "output_type": "execute_result"
    }
   ],
   "source": [
    "fd_1 = FreqDist(filtered_token_titles)\n",
    "fd1=fd_1.most_common(10)\n",
    "fd1"
   ]
  },
  {
   "cell_type": "markdown",
   "metadata": {},
   "source": [
    "- Calculate the top 10 most common terms in abstracts in the 200 documents:"
   ]
  },
  {
   "cell_type": "code",
   "execution_count": 30,
   "metadata": {},
   "outputs": [
    {
     "data": {
      "text/plain": [
       "[('learning', 178),\n",
       " ('data', 141),\n",
       " ('algorithm', 140),\n",
       " ('model', 130),\n",
       " ('problem', 128),\n",
       " ('show', 116),\n",
       " ('methods', 101),\n",
       " ('algorithms', 92),\n",
       " ('method', 83),\n",
       " ('models', 83)]"
      ]
     },
     "execution_count": 30,
     "metadata": {},
     "output_type": "execute_result"
    }
   ],
   "source": [
    "fd_3=FreqDist(filtered_abstract_tokens)\n",
    "fd3=fd_3.most_common(10)\n",
    "fd3"
   ]
  },
  {
   "cell_type": "markdown",
   "metadata": {},
   "source": [
    "- Extract the words from the most frequent and store them into 3 lists for titles, abstracts and authors."
   ]
  },
  {
   "cell_type": "code",
   "execution_count": 31,
   "metadata": {},
   "outputs": [],
   "source": [
    "list1=[]\n",
    "list2=[]\n",
    "list3=[]\n",
    "for m in range(10):\n",
    "    list1.append(fd3[m][0])\n",
    "    list2.append(fd1[m][0])\n",
    "    list3.append(fd2[m][0])\n",
    "    "
   ]
  },
  {
   "cell_type": "markdown",
   "metadata": {},
   "source": [
    "- Using pandas dataframe to save the lists into the CSV file `'stats.csv'`."
   ]
  },
  {
   "cell_type": "code",
   "execution_count": 32,
   "metadata": {},
   "outputs": [],
   "source": [
    "# Creating a list of lists from 3 columns:\n",
    "\n",
    "import pandas as pd\n",
    "zippedList=list(zip(list1,list2,list3))\n",
    "df=pd.DataFrame(zippedList,columns=['top10_terms_in_abstracts','top10_terms_in_titles','top10_authors'])"
   ]
  },
  {
   "cell_type": "code",
   "execution_count": 33,
   "metadata": {},
   "outputs": [],
   "source": [
    "df.to_csv('172_stats.csv',index=False)"
   ]
  },
  {
   "cell_type": "markdown",
   "metadata": {},
   "source": [
    "# Summary:\n",
    "\n",
    "This task for wrangling gives a brief idea about preparing data from pdf formats into machine-readable text. This process involves tokenization, removing stopwords, creating ngrams, frequency distribution and various statistics to visualize the contents in a particular format. Regular expressions were used indicating their importance in every part of the process."
   ]
  },
  {
   "cell_type": "markdown",
   "metadata": {},
   "source": [
    "# References:\n",
    "\n",
    "1. https://docs.python.org/3/library/glob.html - To get the text files from the current directory\n",
    "2. http://jeffreyfossett.com/2014/04/25/tokenizing-raw-text-in-python.html - Definition of tokenization\n",
    "3. https://stackoverflow.com/questions/952914/how-to-make-a-flat-list-out-of-list-of-lists - Flattening of lists\n",
    "4. regex101.com- for understanding regular expressions\n",
    "5. https://www.datacamp.com/community/tutorials/text-analytics-beginners-nltk - nltk usage"
   ]
  }
 ],
 "metadata": {
  "kernelspec": {
   "display_name": "Python 3",
   "language": "python",
   "name": "python3"
  },
  "language_info": {
   "codemirror_mode": {
    "name": "ipython",
    "version": 3
   },
   "file_extension": ".py",
   "mimetype": "text/x-python",
   "name": "python",
   "nbconvert_exporter": "python",
   "pygments_lexer": "ipython3",
   "version": "3.7.1"
  }
 },
 "nbformat": 4,
 "nbformat_minor": 2
}
